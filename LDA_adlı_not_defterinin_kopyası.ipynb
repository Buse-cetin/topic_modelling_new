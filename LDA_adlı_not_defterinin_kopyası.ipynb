{
  "nbformat": 4,
  "nbformat_minor": 0,
  "metadata": {
    "colab": {
      "provenance": [],
      "include_colab_link": true
    },
    "kernelspec": {
      "name": "python3",
      "display_name": "Python 3"
    },
    "language_info": {
      "name": "python"
    }
  },
  "cells": [
    {
      "cell_type": "markdown",
      "metadata": {
        "id": "view-in-github",
        "colab_type": "text"
      },
      "source": [
        "<a href=\"https://colab.research.google.com/github/Buse-cetin/topic_modelling_new/blob/main/LDA_adl%C4%B1_not_defterinin_kopyas%C4%B1.ipynb\" target=\"_parent\"><img src=\"https://colab.research.google.com/assets/colab-badge.svg\" alt=\"Open In Colab\"/></a>"
      ]
    },
    {
      "cell_type": "code",
      "execution_count": 2,
      "metadata": {
        "id": "GE1FMfR4y-RV"
      },
      "outputs": [],
      "source": [
        "import numpy as np\n",
        "import pandas as pd \n",
        "import os\n",
        "\n",
        "data = pd.read_csv('/content/drive/MyDrive/unwanted_clean.csv')\n"
      ]
    },
    {
      "cell_type": "code",
      "source": [
        "from google.colab import drive\n",
        "drive.mount('/content/drive')"
      ],
      "metadata": {
        "colab": {
          "base_uri": "https://localhost:8080/"
        },
        "id": "hSXxMW811IPU",
        "outputId": "734200fc-51eb-49bb-b4bb-6fe6743ae14b"
      },
      "execution_count": 1,
      "outputs": [
        {
          "output_type": "stream",
          "name": "stdout",
          "text": [
            "Mounted at /content/drive\n"
          ]
        }
      ]
    },
    {
      "cell_type": "code",
      "source": [
        "data.info()"
      ],
      "metadata": {
        "id": "arpKAnq1zece",
        "colab": {
          "base_uri": "https://localhost:8080/"
        },
        "outputId": "48fbb510-f13d-4a6f-c73c-255d7b06e24e"
      },
      "execution_count": 3,
      "outputs": [
        {
          "output_type": "stream",
          "name": "stdout",
          "text": [
            "<class 'pandas.core.frame.DataFrame'>\n",
            "RangeIndex: 80284 entries, 0 to 80283\n",
            "Data columns (total 2 columns):\n",
            " #   Column      Non-Null Count  Dtype \n",
            "---  ------      --------------  ----- \n",
            " 0   Unnamed: 0  80284 non-null  int64 \n",
            " 1   tweet       80212 non-null  object\n",
            "dtypes: int64(1), object(1)\n",
            "memory usage: 1.2+ MB\n"
          ]
        }
      ]
    },
    {
      "cell_type": "code",
      "source": [
        "df=pd.DataFrame(data)"
      ],
      "metadata": {
        "id": "xmKywhXm3ZLz"
      },
      "execution_count": 4,
      "outputs": []
    },
    {
      "cell_type": "code",
      "source": [
        "df.columns = df.columns.str.replace(' ', '')"
      ],
      "metadata": {
        "id": "dlHVDHTa3UEk"
      },
      "execution_count": 5,
      "outputs": []
    },
    {
      "cell_type": "code",
      "source": [
        "reviews=data[['tweet']]\n",
        "print(reviews.info())"
      ],
      "metadata": {
        "colab": {
          "base_uri": "https://localhost:8080/"
        },
        "id": "NJiMyzit244t",
        "outputId": "aab4f855-50c9-4b6c-ccb0-69fc4a17d1ff"
      },
      "execution_count": 8,
      "outputs": [
        {
          "output_type": "stream",
          "name": "stdout",
          "text": [
            "<class 'pandas.core.frame.DataFrame'>\n",
            "RangeIndex: 80284 entries, 0 to 80283\n",
            "Data columns (total 1 columns):\n",
            " #   Column  Non-Null Count  Dtype \n",
            "---  ------  --------------  ----- \n",
            " 0   tweet   80212 non-null  object\n",
            "dtypes: object(1)\n",
            "memory usage: 627.3+ KB\n",
            "None\n"
          ]
        }
      ]
    },
    {
      "cell_type": "code",
      "source": [
        "reviews.sample(10)"
      ],
      "metadata": {
        "id": "0TQL6iSy6ERz",
        "colab": {
          "base_uri": "https://localhost:8080/",
          "height": 363
        },
        "outputId": "87feb2db-7126-421a-bf70-c3c6879e7fba"
      },
      "execution_count": 9,
      "outputs": [
        {
          "output_type": "execute_result",
          "data": {
            "text/plain": [
              "                                                   tweet\n",
              "13261  akbil fiyatlarına zam yapmış gerekliyse yapılı...\n",
              "20454  kadıköy osmanağa mahallesi serasker caddesi çi...\n",
              "78856  gittiğin yer kör şişli istanbul yiğit ölür şan...\n",
              "71535  akbilezam öğrenci arkadaşlarıma sesleniyorum z...\n",
              "20717  ataşehir küçük bakkalköy mahallesi kayışdağı c...\n",
              "55057  ongun ulasim istanbulil hayırdır bayram seyran...\n",
              "1307   yalanını sevsinler işin gücün yalan fiko eko y...\n",
              "29000    yürüyen merdiven asansör sorunu zaman çözülecek\n",
              "56580  sn taksi dolmuş esnafı evine ekmek götüremiyor...\n",
              "48684  tembelliğe alışmayın yürümek sağlıklıdır öğren..."
            ],
            "text/html": [
              "\n",
              "  <div id=\"df-2273625f-47a3-4c71-9574-d2cae2183bc5\">\n",
              "    <div class=\"colab-df-container\">\n",
              "      <div>\n",
              "<style scoped>\n",
              "    .dataframe tbody tr th:only-of-type {\n",
              "        vertical-align: middle;\n",
              "    }\n",
              "\n",
              "    .dataframe tbody tr th {\n",
              "        vertical-align: top;\n",
              "    }\n",
              "\n",
              "    .dataframe thead th {\n",
              "        text-align: right;\n",
              "    }\n",
              "</style>\n",
              "<table border=\"1\" class=\"dataframe\">\n",
              "  <thead>\n",
              "    <tr style=\"text-align: right;\">\n",
              "      <th></th>\n",
              "      <th>tweet</th>\n",
              "    </tr>\n",
              "  </thead>\n",
              "  <tbody>\n",
              "    <tr>\n",
              "      <th>13261</th>\n",
              "      <td>akbil fiyatlarına zam yapmış gerekliyse yapılı...</td>\n",
              "    </tr>\n",
              "    <tr>\n",
              "      <th>20454</th>\n",
              "      <td>kadıköy osmanağa mahallesi serasker caddesi çi...</td>\n",
              "    </tr>\n",
              "    <tr>\n",
              "      <th>78856</th>\n",
              "      <td>gittiğin yer kör şişli istanbul yiğit ölür şan...</td>\n",
              "    </tr>\n",
              "    <tr>\n",
              "      <th>71535</th>\n",
              "      <td>akbilezam öğrenci arkadaşlarıma sesleniyorum z...</td>\n",
              "    </tr>\n",
              "    <tr>\n",
              "      <th>20717</th>\n",
              "      <td>ataşehir küçük bakkalköy mahallesi kayışdağı c...</td>\n",
              "    </tr>\n",
              "    <tr>\n",
              "      <th>55057</th>\n",
              "      <td>ongun ulasim istanbulil hayırdır bayram seyran...</td>\n",
              "    </tr>\n",
              "    <tr>\n",
              "      <th>1307</th>\n",
              "      <td>yalanını sevsinler işin gücün yalan fiko eko y...</td>\n",
              "    </tr>\n",
              "    <tr>\n",
              "      <th>29000</th>\n",
              "      <td>yürüyen merdiven asansör sorunu zaman çözülecek</td>\n",
              "    </tr>\n",
              "    <tr>\n",
              "      <th>56580</th>\n",
              "      <td>sn taksi dolmuş esnafı evine ekmek götüremiyor...</td>\n",
              "    </tr>\n",
              "    <tr>\n",
              "      <th>48684</th>\n",
              "      <td>tembelliğe alışmayın yürümek sağlıklıdır öğren...</td>\n",
              "    </tr>\n",
              "  </tbody>\n",
              "</table>\n",
              "</div>\n",
              "      <button class=\"colab-df-convert\" onclick=\"convertToInteractive('df-2273625f-47a3-4c71-9574-d2cae2183bc5')\"\n",
              "              title=\"Convert this dataframe to an interactive table.\"\n",
              "              style=\"display:none;\">\n",
              "        \n",
              "  <svg xmlns=\"http://www.w3.org/2000/svg\" height=\"24px\"viewBox=\"0 0 24 24\"\n",
              "       width=\"24px\">\n",
              "    <path d=\"M0 0h24v24H0V0z\" fill=\"none\"/>\n",
              "    <path d=\"M18.56 5.44l.94 2.06.94-2.06 2.06-.94-2.06-.94-.94-2.06-.94 2.06-2.06.94zm-11 1L8.5 8.5l.94-2.06 2.06-.94-2.06-.94L8.5 2.5l-.94 2.06-2.06.94zm10 10l.94 2.06.94-2.06 2.06-.94-2.06-.94-.94-2.06-.94 2.06-2.06.94z\"/><path d=\"M17.41 7.96l-1.37-1.37c-.4-.4-.92-.59-1.43-.59-.52 0-1.04.2-1.43.59L10.3 9.45l-7.72 7.72c-.78.78-.78 2.05 0 2.83L4 21.41c.39.39.9.59 1.41.59.51 0 1.02-.2 1.41-.59l7.78-7.78 2.81-2.81c.8-.78.8-2.07 0-2.86zM5.41 20L4 18.59l7.72-7.72 1.47 1.35L5.41 20z\"/>\n",
              "  </svg>\n",
              "      </button>\n",
              "      \n",
              "  <style>\n",
              "    .colab-df-container {\n",
              "      display:flex;\n",
              "      flex-wrap:wrap;\n",
              "      gap: 12px;\n",
              "    }\n",
              "\n",
              "    .colab-df-convert {\n",
              "      background-color: #E8F0FE;\n",
              "      border: none;\n",
              "      border-radius: 50%;\n",
              "      cursor: pointer;\n",
              "      display: none;\n",
              "      fill: #1967D2;\n",
              "      height: 32px;\n",
              "      padding: 0 0 0 0;\n",
              "      width: 32px;\n",
              "    }\n",
              "\n",
              "    .colab-df-convert:hover {\n",
              "      background-color: #E2EBFA;\n",
              "      box-shadow: 0px 1px 2px rgba(60, 64, 67, 0.3), 0px 1px 3px 1px rgba(60, 64, 67, 0.15);\n",
              "      fill: #174EA6;\n",
              "    }\n",
              "\n",
              "    [theme=dark] .colab-df-convert {\n",
              "      background-color: #3B4455;\n",
              "      fill: #D2E3FC;\n",
              "    }\n",
              "\n",
              "    [theme=dark] .colab-df-convert:hover {\n",
              "      background-color: #434B5C;\n",
              "      box-shadow: 0px 1px 3px 1px rgba(0, 0, 0, 0.15);\n",
              "      filter: drop-shadow(0px 1px 2px rgba(0, 0, 0, 0.3));\n",
              "      fill: #FFFFFF;\n",
              "    }\n",
              "  </style>\n",
              "\n",
              "      <script>\n",
              "        const buttonEl =\n",
              "          document.querySelector('#df-2273625f-47a3-4c71-9574-d2cae2183bc5 button.colab-df-convert');\n",
              "        buttonEl.style.display =\n",
              "          google.colab.kernel.accessAllowed ? 'block' : 'none';\n",
              "\n",
              "        async function convertToInteractive(key) {\n",
              "          const element = document.querySelector('#df-2273625f-47a3-4c71-9574-d2cae2183bc5');\n",
              "          const dataTable =\n",
              "            await google.colab.kernel.invokeFunction('convertToInteractive',\n",
              "                                                     [key], {});\n",
              "          if (!dataTable) return;\n",
              "\n",
              "          const docLinkHtml = 'Like what you see? Visit the ' +\n",
              "            '<a target=\"_blank\" href=https://colab.research.google.com/notebooks/data_table.ipynb>data table notebook</a>'\n",
              "            + ' to learn more about interactive tables.';\n",
              "          element.innerHTML = '';\n",
              "          dataTable['output_type'] = 'display_data';\n",
              "          await google.colab.output.renderOutput(dataTable, element);\n",
              "          const docLink = document.createElement('div');\n",
              "          docLink.innerHTML = docLinkHtml;\n",
              "          element.appendChild(docLink);\n",
              "        }\n",
              "      </script>\n",
              "    </div>\n",
              "  </div>\n",
              "  "
            ]
          },
          "metadata": {},
          "execution_count": 9
        }
      ]
    },
    {
      "cell_type": "code",
      "source": [
        "reviews_text=reviews['tweet'].values.tolist()"
      ],
      "metadata": {
        "id": "cl7Gg-L06R6l"
      },
      "execution_count": 10,
      "outputs": []
    },
    {
      "cell_type": "code",
      "source": [
        "import re\n",
        "reviews_text=[re.sub(r'[^A-Za-z\\s]','',text) for text in reviews_text] "
      ],
      "metadata": {
        "id": "Q2yjcLsM6utN",
        "colab": {
          "base_uri": "https://localhost:8080/",
          "height": 328
        },
        "outputId": "a8b62cf2-eb72-4b70-863b-ba5286da152e"
      },
      "execution_count": 11,
      "outputs": [
        {
          "output_type": "error",
          "ename": "TypeError",
          "evalue": "ignored",
          "traceback": [
            "\u001b[0;31m---------------------------------------------------------------------------\u001b[0m",
            "\u001b[0;31mTypeError\u001b[0m                                 Traceback (most recent call last)",
            "\u001b[0;32m<ipython-input-11-ef886bc8eac6>\u001b[0m in \u001b[0;36m<module>\u001b[0;34m\u001b[0m\n\u001b[1;32m      1\u001b[0m \u001b[0;32mimport\u001b[0m \u001b[0mre\u001b[0m\u001b[0;34m\u001b[0m\u001b[0;34m\u001b[0m\u001b[0m\n\u001b[0;32m----> 2\u001b[0;31m \u001b[0mreviews_text\u001b[0m\u001b[0;34m=\u001b[0m\u001b[0;34m[\u001b[0m\u001b[0mre\u001b[0m\u001b[0;34m.\u001b[0m\u001b[0msub\u001b[0m\u001b[0;34m(\u001b[0m\u001b[0;34mr'[^A-Za-z\\s]'\u001b[0m\u001b[0;34m,\u001b[0m\u001b[0;34m''\u001b[0m\u001b[0;34m,\u001b[0m\u001b[0mtext\u001b[0m\u001b[0;34m)\u001b[0m \u001b[0;32mfor\u001b[0m \u001b[0mtext\u001b[0m \u001b[0;32min\u001b[0m \u001b[0mreviews_text\u001b[0m\u001b[0;34m]\u001b[0m\u001b[0;34m\u001b[0m\u001b[0;34m\u001b[0m\u001b[0m\n\u001b[0m",
            "\u001b[0;32m<ipython-input-11-ef886bc8eac6>\u001b[0m in \u001b[0;36m<listcomp>\u001b[0;34m(.0)\u001b[0m\n\u001b[1;32m      1\u001b[0m \u001b[0;32mimport\u001b[0m \u001b[0mre\u001b[0m\u001b[0;34m\u001b[0m\u001b[0;34m\u001b[0m\u001b[0m\n\u001b[0;32m----> 2\u001b[0;31m \u001b[0mreviews_text\u001b[0m\u001b[0;34m=\u001b[0m\u001b[0;34m[\u001b[0m\u001b[0mre\u001b[0m\u001b[0;34m.\u001b[0m\u001b[0msub\u001b[0m\u001b[0;34m(\u001b[0m\u001b[0;34mr'[^A-Za-z\\s]'\u001b[0m\u001b[0;34m,\u001b[0m\u001b[0;34m''\u001b[0m\u001b[0;34m,\u001b[0m\u001b[0mtext\u001b[0m\u001b[0;34m)\u001b[0m \u001b[0;32mfor\u001b[0m \u001b[0mtext\u001b[0m \u001b[0;32min\u001b[0m \u001b[0mreviews_text\u001b[0m\u001b[0;34m]\u001b[0m\u001b[0;34m\u001b[0m\u001b[0;34m\u001b[0m\u001b[0m\n\u001b[0m",
            "\u001b[0;32m/usr/lib/python3.8/re.py\u001b[0m in \u001b[0;36msub\u001b[0;34m(pattern, repl, string, count, flags)\u001b[0m\n\u001b[1;32m    208\u001b[0m     \u001b[0ma\u001b[0m \u001b[0mcallable\u001b[0m\u001b[0;34m,\u001b[0m \u001b[0mit\u001b[0m\u001b[0;31m'\u001b[0m\u001b[0ms\u001b[0m \u001b[0mpassed\u001b[0m \u001b[0mthe\u001b[0m \u001b[0mMatch\u001b[0m \u001b[0mobject\u001b[0m \u001b[0;32mand\u001b[0m \u001b[0mmust\u001b[0m \u001b[0;32mreturn\u001b[0m\u001b[0;34m\u001b[0m\u001b[0;34m\u001b[0m\u001b[0m\n\u001b[1;32m    209\u001b[0m     a replacement string to be used.\"\"\"\n\u001b[0;32m--> 210\u001b[0;31m     \u001b[0;32mreturn\u001b[0m \u001b[0m_compile\u001b[0m\u001b[0;34m(\u001b[0m\u001b[0mpattern\u001b[0m\u001b[0;34m,\u001b[0m \u001b[0mflags\u001b[0m\u001b[0;34m)\u001b[0m\u001b[0;34m.\u001b[0m\u001b[0msub\u001b[0m\u001b[0;34m(\u001b[0m\u001b[0mrepl\u001b[0m\u001b[0;34m,\u001b[0m \u001b[0mstring\u001b[0m\u001b[0;34m,\u001b[0m \u001b[0mcount\u001b[0m\u001b[0;34m)\u001b[0m\u001b[0;34m\u001b[0m\u001b[0;34m\u001b[0m\u001b[0m\n\u001b[0m\u001b[1;32m    211\u001b[0m \u001b[0;34m\u001b[0m\u001b[0m\n\u001b[1;32m    212\u001b[0m \u001b[0;32mdef\u001b[0m \u001b[0msubn\u001b[0m\u001b[0;34m(\u001b[0m\u001b[0mpattern\u001b[0m\u001b[0;34m,\u001b[0m \u001b[0mrepl\u001b[0m\u001b[0;34m,\u001b[0m \u001b[0mstring\u001b[0m\u001b[0;34m,\u001b[0m \u001b[0mcount\u001b[0m\u001b[0;34m=\u001b[0m\u001b[0;36m0\u001b[0m\u001b[0;34m,\u001b[0m \u001b[0mflags\u001b[0m\u001b[0;34m=\u001b[0m\u001b[0;36m0\u001b[0m\u001b[0;34m)\u001b[0m\u001b[0;34m:\u001b[0m\u001b[0;34m\u001b[0m\u001b[0;34m\u001b[0m\u001b[0m\n",
            "\u001b[0;31mTypeError\u001b[0m: expected string or bytes-like object"
          ]
        }
      ]
    },
    {
      "cell_type": "code",
      "source": [
        "from pprint import pprint\n",
        "pprint(len(reviews_text[0]))\n",
        "\n",
        "print(reviews_text[0:3])"
      ],
      "metadata": {
        "id": "--WRUUrQ6xmu",
        "colab": {
          "base_uri": "https://localhost:8080/"
        },
        "outputId": "71ad13ff-30d9-4ece-f30d-b99113de6370"
      },
      "execution_count": 12,
      "outputs": [
        {
          "output_type": "stream",
          "name": "stdout",
          "text": [
            "137\n",
            "['dakikadan fazladır taksi dksı görünen otobüsü bekliyoruz taksi reddetti istanbulun ulaşım sıkıntısından gerçekten yıldım taksi ibbşikayet', 'olimpiyat cadde üzeri pendik buraya araç park etmek yasak arkadaslar usulsüz şekilde park ediyorotobüs ler araç lar zaman zaman zorlanıyorgeçmekte ibbşikayet emniyet trafikşube', 'parklarda kontrol bakımları aksatarak canlarla oynuyorsunuz kadikoybelediyesi kadikoysikayet']\n"
          ]
        }
      ]
    },
    {
      "cell_type": "code",
      "source": [
        "import gensim\n",
        "from gensim.utils import simple_preprocess\n",
        "def sent_to_words(texts):\n",
        "    for text in texts:\n",
        "        yield(simple_preprocess(str(text),deacc=True))\n",
        "        \n",
        "data_words=list(sent_to_words(reviews_text))"
      ],
      "metadata": {
        "id": "Yabv7zPr62Ae"
      },
      "execution_count": 13,
      "outputs": []
    },
    {
      "cell_type": "code",
      "source": [
        "\n",
        "import nltk\n",
        "nltk.download('stopwords')\n",
        "stopword = nltk.corpus.stopwords.words('english')\n",
        "new_stopwords = [\"pkk\",\"imamoğlu\",\"akp\",\"chp\",\"terör\",\"izmir\",\"iki\",\"ibb\",\"ibbsikayet\",\"istanbul\",\"olimpiyat\",\"belediye\",\"blk\",\"den\",\"soylu\",\"belediye\",\" \"]\n",
        "stopword.extend(new_stopwords)\n",
        "\n",
        "def remove_stopwords(texts):\n",
        "    return [[word for word in text if word not in stopword] for text in texts]\n",
        "\n",
        "data_words_nostops=remove_stopwords(data_words)\n",
        "    \n",
        "\n"
      ],
      "metadata": {
        "colab": {
          "base_uri": "https://localhost:8080/"
        },
        "id": "pR2ae14_68de",
        "outputId": "3c4c5340-d65b-4795-c9be-ef71f1d85903"
      },
      "execution_count": 14,
      "outputs": [
        {
          "output_type": "stream",
          "name": "stderr",
          "text": [
            "[nltk_data] Downloading package stopwords to /root/nltk_data...\n",
            "[nltk_data]   Unzipping corpora/stopwords.zip.\n"
          ]
        }
      ]
    },
    {
      "cell_type": "code",
      "source": [
        "import gensim\n",
        "\n",
        "bigram=gensim.models.Phrases(data_words_nostops,min_count=5,threshold=100)\n",
        "trigram=gensim.models.Phrases(bigram[data_words_nostops],threshold=100)\n",
        "\n",
        "bigram_mod=gensim.models.phrases.Phraser(bigram)\n",
        "\n",
        "def make_bigram(texts):\n",
        "    return [bigram_mod[doc] for doc in texts]\n",
        "\n",
        "data_words_nostops_bigrams=make_bigram(data_words_nostops)"
      ],
      "metadata": {
        "colab": {
          "base_uri": "https://localhost:8080/"
        },
        "id": "jctp5hkm7gSc",
        "outputId": "24083b29-e99d-4a4a-a652-107394dd8ebc"
      },
      "execution_count": 15,
      "outputs": [
        {
          "output_type": "stream",
          "name": "stderr",
          "text": [
            "/usr/local/lib/python3.8/dist-packages/gensim/models/phrases.py:598: UserWarning: For a faster implementation, use the gensim.models.phrases.Phraser class\n",
            "  warnings.warn(\"For a faster implementation, use the gensim.models.phrases.Phraser class\")\n"
          ]
        }
      ]
    },
    {
      "cell_type": "code",
      "source": [
        "import spacy\n",
        "nlp=spacy.load(\"en_core_web_sm\",disable=['parser','ner'])\n",
        "\n",
        "def lemmatize(texts,allowed_postags=['NOUN','ADJ','VERB','ADV']):\n",
        "    texts_out=[]\n",
        "    for sent in texts:\n",
        "        doc=nlp(\" \".join(sent))\n",
        "        texts_out.append([token.lemma_ for token in doc if token.pos_ in allowed_postags])\n",
        "        \n",
        "    return texts_out"
      ],
      "metadata": {
        "id": "6hTRRBPd732f",
        "colab": {
          "base_uri": "https://localhost:8080/"
        },
        "outputId": "5c97861c-6d85-49f6-eb43-ec2c0aab21a8"
      },
      "execution_count": 16,
      "outputs": [
        {
          "output_type": "stream",
          "name": "stderr",
          "text": [
            "/usr/local/lib/python3.8/dist-packages/torch/cuda/__init__.py:497: UserWarning: Can't initialize NVML\n",
            "  warnings.warn(\"Can't initialize NVML\")\n"
          ]
        }
      ]
    },
    {
      "cell_type": "code",
      "source": [
        "data_lemmatized=lemmatize(data_words_nostops_bigrams,allowed_postags=['NOUN','ADJ','VERB','ADV'] )"
      ],
      "metadata": {
        "id": "IuqtQUx28Ohw"
      },
      "execution_count": 17,
      "outputs": []
    },
    {
      "cell_type": "code",
      "source": [
        "import gensim.corpora as corpora\n",
        "id2word=corpora.Dictionary(data_lemmatized)\n",
        "texts=data_lemmatized\n",
        "corpus=[id2word.doc2bow(text) for text in texts]"
      ],
      "metadata": {
        "id": "KcN8CwGQ8R7C"
      },
      "execution_count": 18,
      "outputs": []
    },
    {
      "cell_type": "code",
      "source": [
        "print([[(id2word[id],freq) for (id,freq) in cp]for cp in corpus[:2]])"
      ],
      "metadata": {
        "colab": {
          "base_uri": "https://localhost:8080/"
        },
        "id": "PpNpl61298AC",
        "outputId": "948a9160-f7ed-4433-a337-f7b9dee03bd5"
      },
      "execution_count": 19,
      "outputs": [
        {
          "output_type": "stream",
          "name": "stdout",
          "text": [
            "[[('gercekten', 1), ('yıldım', 1)], [('arkadaslar', 1), ('cadde', 1), ('emniyet', 1), ('pendik', 1), ('trafiksube', 1), ('uzeri', 1)]]\n"
          ]
        }
      ]
    },
    {
      "cell_type": "code",
      "source": [
        "#Modelleme kısmı\n",
        "lda_model=gensim.models.ldamodel.LdaModel(corpus=corpus,id2word=id2word,num_topics=9,random_state=100,update_every=1,\n",
        "                                         chunksize=100,passes=10,alpha='auto',per_word_topics=True)\n",
        "\n",
        "\n",
        "pprint(lda_model.print_topics())\n",
        "\n",
        "doc_lda=lda_model[corpus]"
      ],
      "metadata": {
        "colab": {
          "base_uri": "https://localhost:8080/"
        },
        "id": "JadShChY8T09",
        "outputId": "fb47af9f-9563-4acc-8120-1aaa2f24b190"
      },
      "execution_count": 20,
      "outputs": [
        {
          "output_type": "stream",
          "name": "stdout",
          "text": [
            "[(0,\n",
            "  '0.073*\"bir\" + 0.028*\"nisantası\" + 0.017*\"insan\" + 0.015*\"size\" + '\n",
            "  '0.014*\"maslak\" + 0.007*\"gtmecidiyekoy_kadıkoy\" + 0.007*\"gtsisli_merter\" + '\n",
            "  '0.005*\"gecen\" + 0.005*\"florya\" + 0.004*\"iptal\"'),\n",
            " (1,\n",
            "  '0.022*\"basaksehir\" + 0.020*\"kagıthane\" + 0.017*\"bo\" + 0.017*\"gitti\" + '\n",
            "  '0.016*\"nisantası\" + 0.008*\"gec\" + 0.007*\"soguk\" + 0.007*\"tesekkurler\" + '\n",
            "  '0.006*\"gtmecidiyekoy_kadıkoy\" + 0.006*\"gtsisli_merter\"'),\n",
            " (2,\n",
            "  '0.021*\"nisantası\" + 0.018*\"avcılar\" + 0.017*\"bak\" + 0.015*\"olu\" + '\n",
            "  '0.011*\"guzel\" + 0.011*\"egm\" + 0.011*\"topkapı\" + 0.009*\"isler\" + '\n",
            "  '0.007*\"gtsisli_merter\" + 0.007*\"gtmecidiyekoy_kadıkoy\"'),\n",
            " (3,\n",
            "  '0.051*\"olmaz\" + 0.046*\"taksim\" + 0.015*\"bagcılar\" + 0.014*\"olmus\" + '\n",
            "  '0.008*\"gtsisli_merter\" + 0.008*\"gtmecidiyekoy_kadıkoy\" + 0.008*\"trafik\" + '\n",
            "  '0.006*\"sultangazi_kagıthane\" + 0.006*\"kucukcekmece_florya\" + 0.005*\"doyar\"'),\n",
            " (4,\n",
            "  '0.044*\"gelir\" + 0.041*\"sirinevler\" + 0.022*\"nisantası\" + 0.021*\"beylikduzu\" '\n",
            "  '+ 0.014*\"biter\" + 0.013*\"devam\" + 0.012*\"hizmet\" + 0.011*\"zaman\" + '\n",
            "  '0.010*\"istanbula\" + 0.006*\"gtmecidiyekoy_kadıkoy\"'),\n",
            " (5,\n",
            "  '0.048*\"gun\" + 0.022*\"nisantası\" + 0.015*\"bahcesehir\" + 0.014*\"zeytinburnu\" '\n",
            "  '+ 0.010*\"varsa\" + 0.009*\"yıl\" + 0.008*\"onemli\" + 0.007*\"gtsisli_merter\" + '\n",
            "  '0.007*\"gtmecidiyekoy_kadıkoy\" + 0.005*\"kendine\"'),\n",
            " (6,\n",
            "  '0.084*\"besikta\" + 0.034*\"levent\" + 0.027*\"esenyurt\" + 0.019*\"gol\" + '\n",
            "  '0.019*\"nisantası\" + 0.018*\"sefakoy\" + 0.012*\"alma\" + 0.008*\"giden\" + '\n",
            "  '0.007*\"aksener\" + 0.007*\"heman\"'),\n",
            " (7,\n",
            "  '0.071*\"sisli\" + 0.024*\"esenler\" + 0.019*\"nisantası\" + 0.018*\"gelene\" + '\n",
            "  '0.016*\"insanlar\" + 0.012*\"buyukcekmece\" + 0.009*\"aksaray\" + '\n",
            "  '0.008*\"bakirkoy\" + 0.006*\"ongun\" + 0.006*\"sorun\"'),\n",
            " (8,\n",
            "  '0.085*\"nisantası\" + 0.024*\"kucukcekmece\" + 0.022*\"eyup\" + '\n",
            "  '0.021*\"bahcelievler\" + 0.014*\"yeni\" + 0.009*\"bilir\" + '\n",
            "  '0.006*\"gtmecidiyekoy_kadıkoy\" + 0.006*\"gtsisli_merter\" + 0.006*\"terorist\" + '\n",
            "  '0.005*\"eder\"')]\n"
          ]
        }
      ]
    },
    {
      "cell_type": "code",
      "source": [
        "print(list(doc_lda)[0])"
      ],
      "metadata": {
        "colab": {
          "base_uri": "https://localhost:8080/"
        },
        "id": "QwVHSZqj8al0",
        "outputId": "d69a8716-e9ae-4eee-bf7c-29a129ca02e3"
      },
      "execution_count": 21,
      "outputs": [
        {
          "output_type": "stream",
          "name": "stdout",
          "text": [
            "([(0, 0.115375355), (1, 0.09476601), (2, 0.10766928), (3, 0.13625033), (4, 0.10957632), (5, 0.1069682), (6, 0.10093839), (7, 0.10821385), (8, 0.12024225)], [(0, [7]), (1, [6])], [(0, [(7, 0.9999941)]), (1, [(6, 0.99938625)])])\n"
          ]
        }
      ]
    },
    {
      "cell_type": "code",
      "source": [
        "print(lda_model[corpus[0]])\n",
        "print(\"*****************\")\n",
        "print(\"The Topics Distribution for first doc: \")\n",
        "print(lda_model[corpus[0]][0])"
      ],
      "metadata": {
        "colab": {
          "base_uri": "https://localhost:8080/"
        },
        "id": "sjEbLFlD-N2Y",
        "outputId": "b0d27490-d5eb-4638-cd18-92d7450a1560"
      },
      "execution_count": 22,
      "outputs": [
        {
          "output_type": "stream",
          "name": "stdout",
          "text": [
            "([(0, 0.115375355), (1, 0.09476601), (2, 0.10766928), (3, 0.13625033), (4, 0.10957632), (5, 0.1069682), (6, 0.10093839), (7, 0.10821385), (8, 0.12024225)], [(0, [7]), (1, [6])], [(0, [(7, 0.9999941)]), (1, [(6, 0.99938625)])])\n",
            "*****************\n",
            "The Topics Distribution for first doc: \n",
            "[(0, 0.115375355), (1, 0.09476601), (2, 0.10766928), (3, 0.13625033), (4, 0.10957632), (5, 0.1069682), (6, 0.10093839), (7, 0.10821385), (8, 0.12024225)]\n"
          ]
        }
      ]
    },
    {
      "cell_type": "code",
      "source": [
        "\n",
        "print(\"Perplexity: \",lda_model.log_perplexity(corpus))\n",
        "\n",
        "from gensim.models import CoherenceModel\n",
        "coherence_model_lda=CoherenceModel(model=lda_model,texts=data_lemmatized,dictionary=id2word,coherence='c_v')\n",
        "\n",
        "coherence_lda=coherence_model_lda.get_coherence()\n",
        "print('Coherence Score: ',coherence_lda)"
      ],
      "metadata": {
        "colab": {
          "base_uri": "https://localhost:8080/"
        },
        "id": "kDoXdwFK8eCu",
        "outputId": "914e70de-0405-457c-cd7a-29966190c26b"
      },
      "execution_count": 23,
      "outputs": [
        {
          "output_type": "stream",
          "name": "stdout",
          "text": [
            "Perplexity:  -12.820893884663217\n",
            "Coherence Score:  0.693589900669548\n"
          ]
        }
      ]
    },
    {
      "cell_type": "code",
      "source": [
        "!pip install pyLDAvis\n",
        "import pyLDAvis\n",
        "import pyLDAvis.gensim_models as gensimvis"
      ],
      "metadata": {
        "colab": {
          "base_uri": "https://localhost:8080/"
        },
        "id": "lTo1bCNC8gEB",
        "outputId": "33b7c44d-3ea1-48c6-cd98-87cc5859f194"
      },
      "execution_count": 24,
      "outputs": [
        {
          "output_type": "stream",
          "name": "stdout",
          "text": [
            "Looking in indexes: https://pypi.org/simple, https://us-python.pkg.dev/colab-wheels/public/simple/\n",
            "Collecting pyLDAvis\n",
            "  Downloading pyLDAvis-3.4.0-py3-none-any.whl (2.6 MB)\n",
            "\u001b[2K     \u001b[90m━━━━━━━━━━━━━━━━━━━━━━━━━━━━━━━━━━━━━━━━\u001b[0m \u001b[32m2.6/2.6 MB\u001b[0m \u001b[31m25.2 MB/s\u001b[0m eta \u001b[36m0:00:00\u001b[0m\n",
            "\u001b[?25hRequirement already satisfied: numpy>=1.22.0 in /usr/local/lib/python3.8/dist-packages (from pyLDAvis) (1.22.4)\n",
            "Requirement already satisfied: gensim in /usr/local/lib/python3.8/dist-packages (from pyLDAvis) (3.6.0)\n",
            "Requirement already satisfied: setuptools in /usr/local/lib/python3.8/dist-packages (from pyLDAvis) (57.4.0)\n",
            "Requirement already satisfied: pandas>=1.3.4 in /usr/local/lib/python3.8/dist-packages (from pyLDAvis) (1.3.5)\n",
            "Requirement already satisfied: numexpr in /usr/local/lib/python3.8/dist-packages (from pyLDAvis) (2.8.4)\n",
            "Requirement already satisfied: scikit-learn>=1.0.0 in /usr/local/lib/python3.8/dist-packages (from pyLDAvis) (1.0.2)\n",
            "Requirement already satisfied: joblib>=1.2.0 in /usr/local/lib/python3.8/dist-packages (from pyLDAvis) (1.2.0)\n",
            "Requirement already satisfied: jinja2 in /usr/local/lib/python3.8/dist-packages (from pyLDAvis) (2.11.3)\n",
            "Collecting funcy\n",
            "  Downloading funcy-1.18-py2.py3-none-any.whl (33 kB)\n",
            "Requirement already satisfied: scipy in /usr/local/lib/python3.8/dist-packages (from pyLDAvis) (1.7.3)\n",
            "Requirement already satisfied: python-dateutil>=2.7.3 in /usr/local/lib/python3.8/dist-packages (from pandas>=1.3.4->pyLDAvis) (2.8.2)\n",
            "Requirement already satisfied: pytz>=2017.3 in /usr/local/lib/python3.8/dist-packages (from pandas>=1.3.4->pyLDAvis) (2022.7.1)\n",
            "Requirement already satisfied: threadpoolctl>=2.0.0 in /usr/local/lib/python3.8/dist-packages (from scikit-learn>=1.0.0->pyLDAvis) (3.1.0)\n",
            "Requirement already satisfied: six>=1.5.0 in /usr/local/lib/python3.8/dist-packages (from gensim->pyLDAvis) (1.15.0)\n",
            "Requirement already satisfied: smart-open>=1.2.1 in /usr/local/lib/python3.8/dist-packages (from gensim->pyLDAvis) (6.3.0)\n",
            "Requirement already satisfied: MarkupSafe>=0.23 in /usr/local/lib/python3.8/dist-packages (from jinja2->pyLDAvis) (2.0.1)\n",
            "Installing collected packages: funcy, pyLDAvis\n",
            "Successfully installed funcy-1.18 pyLDAvis-3.4.0\n"
          ]
        }
      ]
    },
    {
      "cell_type": "code",
      "source": [
        "import warnings\n",
        "warnings.filterwarnings('ignore',category=FutureWarning)\n",
        "\n",
        "\n",
        "pyLDAvis.enable_notebook()\n",
        "\n",
        "vis=pyLDAvis.gensim_models.prepare(lda_model,corpus,id2word)\n",
        "vis"
      ],
      "metadata": {
        "colab": {
          "base_uri": "https://localhost:8080/",
          "height": 882
        },
        "id": "lY6KfvPhB_Pp",
        "outputId": "74862c59-7de2-4c2a-d6eb-c93eb2c09c70"
      },
      "execution_count": 30,
      "outputs": [
        {
          "output_type": "execute_result",
          "data": {
            "text/plain": [
              "PreparedData(topic_coordinates=              x         y  topics  cluster       Freq\n",
              "topic                                                \n",
              "3      0.049699  0.054517       1        1  13.752096\n",
              "8      0.012057 -0.014108       2        1  12.157453\n",
              "0      0.016012  0.001319       3        1  11.683610\n",
              "4      0.029804 -0.130520       4        1  11.075959\n",
              "2      0.015450  0.008412       5        1  10.883791\n",
              "5      0.015408  0.005780       6        1  10.813859\n",
              "7      0.019942  0.064766       7        1  10.396786\n",
              "6     -0.164729  0.001424       8        1   9.661951\n",
              "1      0.006357  0.008411       9        1   9.574496, topic_info=                        Term         Freq        Total Category  logprob  \\\n",
              "2309                 besikta  1715.000000  1715.000000  Default  30.0000   \n",
              "32                       bir  1800.000000  1800.000000  Default  29.0000   \n",
              "14715                  sisli  1551.000000  1551.000000  Default  28.0000   \n",
              "2066                   olmaz  1487.000000  1487.000000  Default  27.0000   \n",
              "111                   taksim  1322.000000  1322.000000  Default  26.0000   \n",
              "...                      ...          ...          ...      ...      ...   \n",
              "12713              nisantası   328.010361  5529.224549   Topic9  -4.1159   \n",
              "39856  gtmecidiyekoy_kadıkoy   129.463360  1359.007749   Topic9  -5.0455   \n",
              "39857         gtsisli_merter   129.463360  1359.007749   Topic9  -5.0455   \n",
              "38391   sultangazi_kagıthane    61.402756   790.380889   Topic9  -5.7915   \n",
              "39635          etiler_levent    58.898202   629.255633   Topic9  -5.8331   \n",
              "\n",
              "       loglift  \n",
              "2309   30.0000  \n",
              "32     29.0000  \n",
              "14715  28.0000  \n",
              "2066   27.0000  \n",
              "111    26.0000  \n",
              "...        ...  \n",
              "12713  -0.4787  \n",
              "39856  -0.0050  \n",
              "39857  -0.0050  \n",
              "38391  -0.2090  \n",
              "39635  -0.0227  \n",
              "\n",
              "[393 rows x 6 columns], token_table=      Topic      Freq         Term\n",
              "term                              \n",
              "218       6  0.977054         acar\n",
              "172       7  0.984280       adalet\n",
              "2598      1  0.987193      adamlar\n",
              "321       6  0.994734         adre\n",
              "2521      9  0.987164         agır\n",
              "...     ...       ...          ...\n",
              "1336      6  0.997933          yıl\n",
              "2180      3  0.980224        yılda\n",
              "2300      1  0.985444       yıllık\n",
              "504       4  0.996628        zaman\n",
              "2116      6  0.998649  zeytinburnu\n",
              "\n",
              "[530 rows x 3 columns], R=30, lambda_step=0.01, plot_opts={'xlab': 'PC1', 'ylab': 'PC2'}, topic_order=[4, 9, 1, 5, 3, 6, 8, 7, 2])"
            ],
            "text/html": [
              "\n",
              "<link rel=\"stylesheet\" type=\"text/css\" href=\"https://cdn.jsdelivr.net/gh/bmabey/pyLDAvis@3.4.0/pyLDAvis/js/ldavis.v1.0.0.css\">\n",
              "\n",
              "\n",
              "<div id=\"ldavis_el3071406437918809283043482090\" style=\"background-color:white;\"></div>\n",
              "<script type=\"text/javascript\">\n",
              "\n",
              "var ldavis_el3071406437918809283043482090_data = {\"mdsDat\": {\"x\": [0.04969902181453991, 0.01205652173760388, 0.01601177077406375, 0.029804286329844852, 0.0154498624595357, 0.01540758085112509, 0.019942396323034968, -0.1647285895696565, 0.006357149279908721], \"y\": [0.05451743118688458, -0.014108050664186423, 0.0013188842008514758, -0.13052015832271463, 0.00841166078160571, 0.005780447388046429, 0.0647657074754626, 0.0014235453277095485, 0.008410532626340662], \"topics\": [1, 2, 3, 4, 5, 6, 7, 8, 9], \"cluster\": [1, 1, 1, 1, 1, 1, 1, 1, 1], \"Freq\": [13.752095770953975, 12.15745280102466, 11.683609928599743, 11.075959185813664, 10.883790929515403, 10.813858556207721, 10.396785675113247, 9.661950679042942, 9.574496473728642]}, \"tinfo\": {\"Term\": [\"besikta\", \"bir\", \"sisli\", \"olmaz\", \"taksim\", \"gun\", \"gelir\", \"sirinevler\", \"levent\", \"nisantas\\u0131\", \"kucukcekmece\", \"esenyurt\", \"esenler\", \"eyup\", \"bahcelievler\", \"beylikduzu\", \"basaksehir\", \"kag\\u0131thane\", \"avc\\u0131lar\", \"gelene\", \"insan\", \"bagc\\u0131lar\", \"gol\", \"sefakoy\", \"bak\", \"bo\", \"gitti\", \"size\", \"olmus\", \"insanlar\", \"olmaz\", \"taksim\", \"bagc\\u0131lar\", \"olmus\", \"trafik\", \"saadet\", \"degilim\", \"istanbulu\", \"farkl\\u0131\", \"degisiklik\", \"ald\\u0131\", \"kamu\", \"alg\\u0131\", \"dil\", \"icinde\", \"ayn\\u0131\", \"mudur\", \"doner\", \"y\\u0131ll\\u0131k\", \"haberiniz\", \"enerji\", \"sagl\\u0131kl\\u0131\", \"kardesim\", \"sure\", \"edirnekap\\u0131\", \"adamlar\", \"bekliyoruz\", \"merhabalar\", \"haks\\u0131z\", \"bulunmuyor\", \"sultangazi_kag\\u0131thane\", \"gtmecidiyekoy_kad\\u0131koy\", \"gtsisli_merter\", \"kucukcekmece_florya\", \"doyar\", \"uzaktan_goygun\", \"bayrampasa\", \"tipisi\", \"davulun_sesi\", \"gungoren\", \"ekmegin_kestigini\", \"etiler_levent\", \"dusuremez\", \"akil_yigide\", \"kag\\u0131thane_halkal\\u0131\", \"okuzune_aci\", \"kasik_yapar\", \"sevmez\", \"florya_yesilkoy\", \"kucukcekmece\", \"eyup\", \"bahcelievler\", \"yeni\", \"bilir\", \"terorist\", \"eder\", \"ye\", \"baskan\\u0131\", \"nedir\", \"tuzla\", \"gunayd\\u0131n\", \"doneminde\", \"maltepe\", \"neler\", \"yaz\\u0131klar\", \"baskan\\u0131n\\u0131\", \"transfer\", \"emekli\", \"uzak\", \"ucuz\", \"uskudar\", \"ekrem\", \"baskan\\u0131m\", \"duzeltme\", \"s\\u0131rf\", \"ukome\", \"s\\u0131f\\u0131r\", \"alt\\u0131nda\", \"verme\", \"nisantas\\u0131\", \"gtmecidiyekoy_kad\\u0131koy\", \"gtsisli_merter\", \"florya\", \"sultangazi_kag\\u0131thane\", \"gunesli\", \"kucukcekmece_florya\", \"etiler_levent\", \"doyar\", \"tipisi\", \"uzaktan_goygun\", \"bir\", \"insan\", \"size\", \"maslak\", \"gecen\", \"iptal\", \"sonuc\", \"hayat\\u0131\", \"oldugun\", \"olmayacak\", \"dusuncesi\", \"buyuk\", \"olmayan\", \"sultanbeyli\", \"ald\\u0131lar\", \"bakal\\u0131m\", \"benziyor\", \"olduk\", \"millet\", \"y\\u0131lda\", \"hayat\", \"uygulamay\\u0131\", \"bildigin\", \"soyluyorum\", \"ifade\", \"yasamak\", \"cevap\", \"proje\", \"yap\\u0131yorsunuz\", \"sokaga\", \"ayazaga\", \"nisantas\\u0131\", \"gtmecidiyekoy_kad\\u0131koy\", \"gtsisli_merter\", \"florya\", \"sultangazi_kag\\u0131thane\", \"kucukcekmece_florya\", \"etiler_levent\", \"doyar\", \"tipisi\", \"kelepirciytim\", \"samand\\u0131ra_denizayisiytim\", \"uzaktan_goygun\", \"bayrampasa\", \"ekmegin_kestigini\", \"kag\\u0131thane_halkal\\u0131\", \"gelir\", \"sirinevler\", \"beylikduzu\", \"biter\", \"devam\", \"hizmet\", \"zaman\", \"istanbula\", \"c\\u0131karken\", \"olunca\", \"merkez\", \"yer\", \"istanbulun\", \"deniz\", \"can\\u0131m\", \"arkada\", \"al\\u0131r\", \"yaz\\u0131k\", \"tekrar\", \"mesafe\", \"verin\", \"uzerinden\", \"ulkeyi\", \"c\\u0131kar\\u0131p\", \"paray\\u0131\", \"elinden\", \"etmeye\", \"durumda\", \"yolunda\", \"versin\", \"nisantas\\u0131\", \"gtmecidiyekoy_kad\\u0131koy\", \"gtsisli_merter\", \"sultangazi_kag\\u0131thane\", \"florya\", \"kucukcekmece_florya\", \"etiler_levent\", \"uzaktan_goygun\", \"davulun_sesi\", \"avc\\u0131lar\", \"bak\", \"olu\", \"guzel\", \"egm\", \"topkap\\u0131\", \"isler\", \"son\", \"merter\", \"olmuyor\", \"gereken\", \"paras\\u0131\", \"halk\", \"sizsiniz\", \"veriyor\", \"bide\", \"duruyor\", \"kad\\u0131n\", \"sart\", \"kolay\", \"yalan\", \"karar\", \"gitsin\", \"vakit\", \"yuzde\", \"dedigi\", \"surec\", \"donmus\", \"laz\\u0131m\", \"lanet\", \"makinesi\", \"nimet\", \"nisantas\\u0131\", \"gtmecidiyekoy_kad\\u0131koy\", \"gtsisli_merter\", \"sultangazi_kag\\u0131thane\", \"kucukcekmece_florya\", \"etiler_levent\", \"florya\", \"doyar\", \"gun\", \"bahcesehir\", \"zeytinburnu\", \"varsa\", \"y\\u0131l\", \"onemli\", \"adre\", \"cocuk\", \"erdogan\", \"edin\", \"hafta\", \"durumu\", \"kisi\", \"ocak\", \"devlet\", \"gecmis\", \"ay\", \"anlat\", \"bekliyorum\", \"sene\", \"gozu\", \"misiniz\", \"tarih\", \"dediginiz\", \"eksik\", \"isi\", \"gune\", \"getirir\", \"istiyorum\", \"arac\\u0131\", \"acar\", \"kendine\", \"birbirlerine\", \"meclise\", \"nisantas\\u0131\", \"gtmecidiyekoy_kad\\u0131koy\", \"gtsisli_merter\", \"sultangazi_kag\\u0131thane\", \"etiler_levent\", \"kucukcekmece_florya\", \"florya\", \"sisli\", \"esenler\", \"gelene\", \"insanlar\", \"buyukcekmece\", \"aksaray\", \"bakirkoy\", \"ongun\", \"sorun\", \"ekmek\", \"olabilir\", \"geliyor\", \"gercekten\", \"ulkede\", \"ver\", \"uzun\", \"hikaye\", \"duz\", \"fazla\", \"adalet\", \"diyorlar\", \"bur\", \"surece\", \"diyenler\", \"allah\\u0131m\", \"sah\\u0131s\", \"icin\", \"gelmeden\", \"sar\\u0131yer\", \"bas\\u0131ma\", \"seysi\", \"nisantas\\u0131\", \"gtmecidiyekoy_kad\\u0131koy\", \"gtsisli_merter\", \"sultangazi_kag\\u0131thane\", \"kucukcekmece_florya\", \"besikta\", \"levent\", \"esenyurt\", \"gol\", \"sefakoy\", \"alma\", \"giden\", \"aksener\", \"heman\", \"icisleri\", \"diyor\", \"koy\", \"ulkenin\", \"iktidar\", \"karde\", \"indirim\", \"etme\", \"kald\\u0131k\", \"normal\", \"dileriz\", \"beyoglu\", \"hakk\\u0131n\\u0131\", \"seye\", \"sorusturma\", \"ayda\", \"ciddi\", \"kart\", \"yuz\", \"saray\", \"ulke\", \"nisantas\\u0131\", \"gtmecidiyekoy_kad\\u0131koy\", \"gtsisli_merter\", \"kucukcekmece_florya\", \"sultangazi_kag\\u0131thane\", \"basaksehir\", \"kag\\u0131thane\", \"bo\", \"gitti\", \"gec\", \"soguk\", \"tesekkurler\", \"emin\", \"istedigin\", \"bence\", \"yeter\", \"koca\", \"olacak\", \"tabi\", \"cocuklar\", \"valla\", \"geldi\", \"biliyor\", \"suleyman\", \"tane\", \"gercekler\", \"yapar\", \"maas\", \"istedigim\", \"sebebi\", \"onunde\", \"ag\\u0131r\", \"genis\", \"olmal\\u0131\", \"sokak\", \"cumhuriyet\", \"nisantas\\u0131\", \"gtmecidiyekoy_kad\\u0131koy\", \"gtsisli_merter\", \"sultangazi_kag\\u0131thane\", \"etiler_levent\"], \"Freq\": [1715.0, 1800.0, 1551.0, 1487.0, 1322.0, 1093.0, 1033.0, 965.0, 694.0, 5529.0, 623.0, 542.0, 521.0, 560.0, 539.0, 496.0, 439.0, 407.0, 408.0, 395.0, 415.0, 448.0, 377.0, 373.0, 381.0, 350.0, 346.0, 373.0, 405.0, 350.0, 1486.4096040799939, 1321.844312511681, 447.52475835008886, 404.1368381351115, 230.43365714801135, 134.91438714747994, 128.5297812014074, 125.26288485963899, 121.48750007605919, 111.72249374228778, 88.87087037596211, 81.11004636665076, 78.06502696453063, 70.83405662714806, 70.683827519313, 65.00564606102117, 62.08263106708151, 100.48235175956894, 50.87529348867886, 48.44700092268522, 48.118876179881674, 48.04417184914235, 46.08863459615034, 44.57415787191596, 43.52353596271015, 38.62833941469554, 38.16711742547462, 38.150036001332936, 38.03303160844747, 36.31109628053325, 185.1540566339543, 240.91347400732127, 240.91347400732127, 161.19839492064432, 137.63857839939251, 126.2516168686968, 114.80842113773622, 119.96476508849962, 117.11310875265735, 105.88012213816164, 109.69836515640873, 117.58754194570754, 98.09478561270997, 95.59690978073445, 97.78233005031986, 93.8304551505297, 94.13383200323821, 93.17655267949955, 88.87884619054165, 622.1392855164861, 559.226671417839, 538.2824185463435, 347.6353928570631, 242.4820099758582, 149.10129449920322, 135.65446804614865, 111.93675906285725, 77.9114383071356, 75.54236056949172, 72.85466349276224, 72.44969060190273, 71.42575447646256, 71.55741614652003, 68.56099248871882, 60.28555772608919, 59.975677782604784, 58.34133351800582, 56.8516232780234, 54.95961547236553, 54.77800250853839, 53.392511047392226, 50.037266830739824, 49.38498985245073, 46.77952335412817, 46.55647554836727, 45.7189441914172, 41.01010730756306, 39.92836929522982, 39.836992077276996, 2162.0519906871714, 158.86202224267805, 158.86202224267805, 91.91718180730669, 86.61855759629566, 66.61865884376552, 73.77072456161464, 69.52385985795786, 65.67057710504363, 58.15400724861899, 56.869732256935855, 1799.4027253605493, 414.92051482729244, 373.005448560593, 349.92845357688475, 121.1174518926628, 104.42892949395284, 86.08598589036659, 84.28753429465117, 83.79922276250595, 81.76532555704439, 75.26868591427443, 70.11984940526438, 66.07786836678012, 62.37768883178909, 56.48404111328317, 52.245843020866246, 52.17945843158623, 45.20890229692332, 44.08404659844961, 44.00891185868484, 42.41288783833657, 40.34103046322389, 38.967933881082665, 38.203816920043884, 37.41467789955491, 39.73946118830409, 36.33432427233536, 36.227708416559494, 36.09684753069414, 35.43468424926697, 89.95020432223504, 695.852874858034, 181.78443059853362, 181.78443059853362, 119.74035018124322, 97.84790217722937, 83.95976502726016, 79.3737777345116, 70.35614631923657, 64.53437381659627, 61.695377064769694, 61.695377064769694, 62.55786822825476, 60.1395757407405, 60.399057839607984, 60.187077373865044, 1032.6326692460934, 964.9965846123997, 495.2407694967243, 329.644288928081, 309.4688914190647, 277.4767059487387, 247.95370393275297, 232.7979395177049, 124.83303921681147, 121.71246969825958, 95.7321512293652, 92.03108419852416, 86.47007553683707, 81.21881973241564, 80.08953715217612, 77.25725568868415, 76.38368752725292, 74.21603498474595, 67.41593364947614, 62.9269464302746, 58.85283706102381, 54.97281543394823, 51.03659968048241, 50.85266208701616, 50.45484016998132, 50.16448850411131, 50.40756127559478, 49.192056594342624, 48.89371588399786, 47.916593457269755, 517.5384255267269, 138.29399961253273, 138.29399961253273, 74.67795882812568, 69.1904547919077, 68.80454332151693, 66.1241891105788, 63.23477108426363, 59.46282091780148, 407.61404936138814, 380.46625763259397, 346.98517194934004, 247.84624725933818, 245.33308639941467, 240.2294844721815, 210.83032656947697, 161.27980106868264, 117.72764604504802, 97.68032996585627, 92.5107205226449, 90.82921604328254, 70.20064316458317, 66.7159285238819, 65.83560477304947, 64.71421148273018, 64.25306898902772, 64.29767542278141, 63.639106481917615, 62.15001481642748, 58.68088927541175, 56.08399754616323, 56.06656159854635, 55.681150514685335, 50.53819529176254, 50.40793130582752, 46.46149403763556, 45.988259213961925, 44.83569836892822, 44.56149201324397, 68.82910576497032, 61.5807811566227, 474.94665477982966, 162.88768710255152, 162.88768710255152, 89.02964103219465, 75.1359743592598, 74.12087328806649, 69.64683893461397, 65.8240712875532, 1092.9908980465418, 346.80390514209085, 325.55841817479524, 216.03121111582365, 210.5560712633734, 171.96544252178893, 119.75339364327263, 112.28518916857418, 99.99819701148974, 95.51998607994423, 94.58686374055058, 84.0242886046927, 83.88066827092342, 82.26953886744197, 77.47029611504645, 76.66109582364976, 71.88663325034932, 70.11058292381243, 66.76897630165608, 66.747844932543, 64.06837040698761, 58.7376176672159, 55.85684516952378, 51.010791886750646, 49.59889808454654, 48.71516688316995, 48.42448893086575, 46.868921913588274, 37.14506805713352, 35.846715702934134, 35.950500550334844, 124.08901542647855, 45.36315322036933, 77.77736198348715, 495.8884640626573, 153.13993094463405, 153.13993094463405, 79.51430658565185, 68.81370066986666, 68.83214566873212, 61.721508707877234, 1551.0239126217996, 520.7374782346296, 395.02651230985407, 349.12034973463483, 270.98771148435384, 201.46026455834522, 171.04092868293696, 132.66276292699862, 131.4795023454934, 126.41625296658113, 108.80826743012126, 108.7528092399855, 107.85324567072595, 87.25348702562879, 80.45579647749499, 72.5917712239783, 71.53238658697784, 98.72477063160812, 69.07649578093411, 66.16724393046454, 64.85723992927699, 63.51647666421691, 59.273126903222284, 58.47771267618234, 57.6076424110095, 46.62471423180883, 46.39156918000683, 45.19864358021702, 50.745835321273006, 44.12597399172914, 72.47630959049981, 405.8693511077749, 113.23892331348407, 113.23892331348407, 68.98800570032235, 63.79536913028748, 1714.518586555205, 693.1481438879727, 541.2688262374304, 376.9955584431746, 372.26683408460457, 234.23121485248348, 169.15301665403413, 149.1850866633371, 142.41325084147988, 118.04867652108672, 108.660758418381, 78.45340126454252, 78.09101616900763, 75.73531460512477, 70.98395830559649, 61.573030275444744, 56.75669337382917, 56.33865449279394, 54.99852229955379, 49.82564019364015, 55.04731090546911, 49.51240751601511, 48.911007389738565, 46.91537102932159, 44.82207241011422, 43.49097881876405, 41.70719443510779, 41.6216560929142, 41.59039188554042, 39.8666553803054, 375.7978704578693, 80.42392042284389, 80.42392042284389, 47.307187097764334, 47.14770514889103, 438.2630227763357, 406.8529231988304, 349.34297205646345, 345.67275768422314, 160.32331733210043, 143.5795795710925, 137.54967947821456, 116.64987885005552, 124.69721509452287, 113.43438660627228, 102.9849638627972, 95.66488337171724, 92.48626706989992, 86.65528917996299, 80.13027010397056, 78.67253733664819, 71.54216942714724, 70.03850092256899, 63.07537168385016, 62.348616911390934, 60.886412772232944, 60.43393335279078, 59.302306395260814, 56.85022949092424, 56.525514254362406, 55.545192901272515, 46.72720752732075, 47.82808736564172, 37.393916448087644, 35.50927067588696, 43.609804540036464, 328.0103613628743, 129.4633603626441, 129.4633603626441, 61.40275555485627, 58.898202068808956], \"Total\": [1715.0, 1800.0, 1551.0, 1487.0, 1322.0, 1093.0, 1033.0, 965.0, 694.0, 5529.0, 623.0, 542.0, 521.0, 560.0, 539.0, 496.0, 439.0, 407.0, 408.0, 395.0, 415.0, 448.0, 377.0, 373.0, 381.0, 350.0, 346.0, 373.0, 405.0, 350.0, 1487.2879142679403, 1322.723822510579, 448.4065527173082, 405.0146807374306, 231.31109888787606, 135.80638021254518, 129.40820027093937, 126.14048837506864, 122.36570725844909, 112.6015021836107, 89.74848104479346, 81.98806054511938, 78.9427104118103, 71.71271676241345, 71.56157945682176, 65.88337499077271, 62.96089799259045, 102.04066573735338, 51.7533290749011, 49.32495887801541, 48.99663618302736, 48.92247911898711, 46.967711083408524, 45.4519480569578, 44.421404938701876, 39.5059481090664, 39.04464021222682, 39.02904908136101, 38.912805878729074, 37.20450876887676, 790.3808892575212, 1359.0077486072232, 1359.0077486072232, 696.5107999873536, 583.0625339242457, 533.3850471288499, 458.45127114754087, 518.3011982858209, 500.75221217480635, 438.6305174569414, 493.2265544445851, 629.2556331048853, 406.5756856996829, 400.3990658692219, 478.10358850239334, 407.9054547983207, 447.5650902567188, 426.03733422634116, 359.8816883530633, 623.0178028597094, 560.1056244721773, 539.162293674272, 348.512773928632, 243.3600245358028, 149.97898002272854, 136.53201075047167, 112.81399719370185, 78.78866875709015, 76.41985799688223, 73.73298072810253, 73.32715742916973, 72.30303482062163, 72.43665549954875, 69.4386205414029, 61.1631679730284, 60.85294570572619, 59.2256952338143, 57.7294788504187, 55.839403415749544, 55.65525070945317, 54.271592388415925, 50.914465778652776, 50.262241405617296, 47.660653202691, 47.43404294051592, 46.59614839703845, 41.88738315400641, 40.807883979065465, 40.71798700481122, 5529.224549183513, 1359.0077486072232, 1359.0077486072232, 550.5502988215651, 790.3808892575212, 336.4225052050278, 696.5107999873536, 629.2556331048853, 583.0625339242457, 518.3011982858209, 533.3850471288499, 1800.2808551915673, 415.79899353378397, 373.88346566950094, 350.8078642263418, 121.99552552860104, 105.3073407828947, 86.9640700591401, 85.16690297105332, 84.67793456095083, 82.6453573986203, 76.15238919525648, 70.99842787872385, 66.95569446372775, 63.25649260581788, 57.362946714183174, 53.12370508036705, 53.05852319752618, 46.08863809208453, 44.962425106353336, 44.88770236563582, 43.29293755752199, 41.220944624760065, 39.84730612904421, 39.08292487242686, 38.295505564614594, 40.6933561905341, 37.21219280359936, 37.10553384180457, 36.974663762902026, 36.313166185661665, 134.46596046732716, 5529.224549183513, 1359.0077486072232, 1359.0077486072232, 550.5502988215651, 790.3808892575212, 696.5107999873536, 629.2556331048853, 583.0625339242457, 518.3011982858209, 468.18543097430864, 468.18543097430864, 533.3850471288499, 458.45127114754087, 493.2265544445851, 478.10358850239334, 1033.5185378491453, 965.8839131251614, 496.12682242526495, 330.5303324757698, 310.3540642139079, 278.36157471829404, 248.8389671566053, 233.68330155273838, 125.71959815384258, 122.59795647486129, 96.6181322913864, 92.91639263994668, 87.3548845281878, 82.10428293165485, 80.97496887952931, 78.1421950768043, 77.26894204672053, 75.10113087207569, 68.3009243399331, 63.81934460300397, 59.73802464948108, 55.857558630274866, 51.92172931714415, 51.740316896282295, 51.340285271191256, 51.05030114201451, 51.29792968264775, 50.07754081503921, 49.78496006162466, 48.801437589665824, 5529.224549183513, 1359.0077486072232, 1359.0077486072232, 790.3808892575212, 550.5502988215651, 696.5107999873536, 629.2556331048853, 533.3850471288499, 500.75221217480635, 408.49572726419177, 381.3475848864841, 348.0086430280724, 248.72728335698142, 246.21421965171834, 241.11290984462673, 211.71157242794476, 162.16069807728041, 118.61153183709072, 98.56148021070962, 93.39199411376583, 91.70998835311038, 71.08120469719623, 67.59746403726278, 66.71623608027468, 65.59538949069852, 65.13395836666953, 65.18282659736911, 64.52044846243045, 63.03152827420623, 59.56145537794375, 56.96486235879559, 56.9486194472014, 56.566261424252566, 51.418749587757745, 51.293029486861, 47.344018194022645, 46.88315472121527, 45.71628901283595, 45.44265653577574, 70.58871929576415, 66.0610348119082, 5529.224549183513, 1359.0077486072232, 1359.0077486072232, 790.3808892575212, 696.5107999873536, 629.2556331048853, 550.5502988215651, 583.0625339242457, 1093.8723748515845, 347.7366578322408, 326.44102379457223, 216.91314259264723, 211.43698365694837, 172.84654525677578, 120.63521506434391, 113.16684765145335, 100.87906005296107, 96.40147346416643, 95.4687077666978, 84.90587489613019, 84.76156832997461, 83.15092892497779, 78.35145616119487, 77.5430382539702, 72.76762101764746, 71.01077139929966, 67.65044174774714, 67.62915549058448, 64.95073274265339, 59.61864515363659, 56.73845451649063, 51.891769623154154, 50.48011939641919, 49.59634134581131, 49.305924615249175, 47.792122869831076, 38.026822091044366, 36.72891719057613, 36.84544998389044, 158.75131794684566, 49.83640989979746, 113.73068110158825, 5529.224549183513, 1359.0077486072232, 1359.0077486072232, 790.3808892575212, 629.2556331048853, 696.5107999873536, 550.5502988215651, 1551.9162810450634, 521.6284207005641, 395.95492806515233, 350.0074897844848, 271.8769858042218, 202.35469356631427, 171.99796592463647, 133.5492906094656, 132.3661933900437, 127.30432945910566, 109.69493700402433, 109.63956185364013, 108.74007301541924, 88.14032106158277, 81.3428340494756, 73.47935974884787, 72.41995969337198, 99.98513435083692, 69.96357310319307, 67.05406609043679, 65.74452839893696, 64.40724719357823, 60.167580829987116, 59.36636289999012, 58.50122397586254, 47.51186247536367, 47.27810927054222, 46.08625532144299, 51.754265294887624, 45.02261266651576, 77.85307672096417, 5529.224549183513, 1359.0077486072232, 1359.0077486072232, 790.3808892575212, 696.5107999873536, 1715.4088774860754, 694.0435990911284, 542.159747784482, 377.8858928837055, 373.1930741067895, 235.12169703614663, 170.043029748875, 150.0744974040164, 143.30277673981755, 118.9378661556628, 109.55005412772859, 79.34353094645165, 78.98042411615084, 76.62456273565891, 71.87322760638689, 62.462113747023636, 57.65136199072583, 57.22901781486554, 55.88768192745582, 50.71477822337017, 56.03148219297403, 50.401764477945555, 49.801038892529164, 47.805165161299186, 45.71171536281648, 44.38038581951445, 42.59769452981422, 42.512842497331164, 42.48526156959806, 40.755897447250995, 5529.224549183513, 1359.0077486072232, 1359.0077486072232, 696.5107999873536, 790.3808892575212, 439.15117754991365, 407.795457631371, 350.22664379003834, 346.55729935352747, 161.2075914392851, 144.46414148059588, 138.433053859572, 117.53451844122114, 125.64322951240823, 114.31775432437585, 103.86837542600296, 96.54856105157076, 93.36955048470152, 87.53867814694406, 81.01511161716698, 79.55649696221475, 72.42570278567271, 70.92209187861042, 63.958631376651255, 63.23182407633433, 61.770875307212975, 61.31807220869918, 60.18655299061872, 57.7376217944374, 57.40921699522153, 56.42842199079988, 47.611120041445396, 48.75565811588688, 38.27730125753513, 36.39305871376707, 44.976548631776964, 5529.224549183513, 1359.0077486072232, 1359.0077486072232, 790.3808892575212, 629.2556331048853], \"Category\": [\"Default\", \"Default\", \"Default\", \"Default\", \"Default\", \"Default\", \"Default\", \"Default\", \"Default\", \"Default\", \"Default\", \"Default\", \"Default\", \"Default\", \"Default\", \"Default\", \"Default\", \"Default\", \"Default\", \"Default\", \"Default\", \"Default\", \"Default\", \"Default\", \"Default\", \"Default\", \"Default\", \"Default\", \"Default\", \"Default\", \"Topic1\", \"Topic1\", \"Topic1\", \"Topic1\", \"Topic1\", \"Topic1\", \"Topic1\", \"Topic1\", \"Topic1\", \"Topic1\", \"Topic1\", \"Topic1\", \"Topic1\", \"Topic1\", \"Topic1\", \"Topic1\", \"Topic1\", \"Topic1\", \"Topic1\", \"Topic1\", \"Topic1\", \"Topic1\", \"Topic1\", \"Topic1\", \"Topic1\", \"Topic1\", \"Topic1\", \"Topic1\", \"Topic1\", \"Topic1\", \"Topic1\", \"Topic1\", \"Topic1\", \"Topic1\", \"Topic1\", \"Topic1\", \"Topic1\", \"Topic1\", \"Topic1\", \"Topic1\", \"Topic1\", \"Topic1\", \"Topic1\", \"Topic1\", \"Topic1\", \"Topic1\", \"Topic1\", \"Topic1\", \"Topic1\", \"Topic2\", \"Topic2\", \"Topic2\", \"Topic2\", \"Topic2\", \"Topic2\", \"Topic2\", \"Topic2\", \"Topic2\", \"Topic2\", \"Topic2\", \"Topic2\", \"Topic2\", \"Topic2\", \"Topic2\", \"Topic2\", \"Topic2\", \"Topic2\", \"Topic2\", \"Topic2\", \"Topic2\", \"Topic2\", \"Topic2\", \"Topic2\", \"Topic2\", \"Topic2\", \"Topic2\", \"Topic2\", \"Topic2\", \"Topic2\", \"Topic2\", \"Topic2\", \"Topic2\", \"Topic2\", \"Topic2\", \"Topic2\", \"Topic2\", \"Topic2\", \"Topic2\", \"Topic2\", \"Topic2\", \"Topic3\", \"Topic3\", \"Topic3\", \"Topic3\", \"Topic3\", \"Topic3\", \"Topic3\", \"Topic3\", \"Topic3\", \"Topic3\", \"Topic3\", \"Topic3\", \"Topic3\", \"Topic3\", \"Topic3\", \"Topic3\", \"Topic3\", \"Topic3\", \"Topic3\", \"Topic3\", \"Topic3\", \"Topic3\", \"Topic3\", \"Topic3\", \"Topic3\", \"Topic3\", \"Topic3\", \"Topic3\", \"Topic3\", \"Topic3\", \"Topic3\", \"Topic3\", \"Topic3\", \"Topic3\", \"Topic3\", \"Topic3\", \"Topic3\", \"Topic3\", \"Topic3\", \"Topic3\", \"Topic3\", \"Topic3\", \"Topic3\", \"Topic3\", \"Topic3\", \"Topic3\", \"Topic4\", \"Topic4\", \"Topic4\", \"Topic4\", \"Topic4\", \"Topic4\", \"Topic4\", \"Topic4\", \"Topic4\", \"Topic4\", \"Topic4\", \"Topic4\", \"Topic4\", \"Topic4\", \"Topic4\", \"Topic4\", \"Topic4\", \"Topic4\", \"Topic4\", \"Topic4\", \"Topic4\", \"Topic4\", \"Topic4\", \"Topic4\", \"Topic4\", \"Topic4\", \"Topic4\", \"Topic4\", \"Topic4\", \"Topic4\", \"Topic4\", \"Topic4\", \"Topic4\", \"Topic4\", \"Topic4\", \"Topic4\", \"Topic4\", \"Topic4\", \"Topic4\", \"Topic5\", \"Topic5\", \"Topic5\", \"Topic5\", \"Topic5\", \"Topic5\", \"Topic5\", \"Topic5\", \"Topic5\", \"Topic5\", \"Topic5\", \"Topic5\", \"Topic5\", \"Topic5\", \"Topic5\", \"Topic5\", \"Topic5\", \"Topic5\", \"Topic5\", \"Topic5\", \"Topic5\", \"Topic5\", \"Topic5\", \"Topic5\", \"Topic5\", \"Topic5\", \"Topic5\", \"Topic5\", \"Topic5\", \"Topic5\", \"Topic5\", \"Topic5\", \"Topic5\", \"Topic5\", \"Topic5\", \"Topic5\", \"Topic5\", \"Topic5\", \"Topic5\", \"Topic5\", \"Topic6\", \"Topic6\", \"Topic6\", \"Topic6\", \"Topic6\", \"Topic6\", \"Topic6\", \"Topic6\", \"Topic6\", \"Topic6\", \"Topic6\", \"Topic6\", \"Topic6\", \"Topic6\", \"Topic6\", \"Topic6\", \"Topic6\", \"Topic6\", \"Topic6\", \"Topic6\", \"Topic6\", \"Topic6\", \"Topic6\", \"Topic6\", \"Topic6\", \"Topic6\", \"Topic6\", \"Topic6\", \"Topic6\", \"Topic6\", \"Topic6\", \"Topic6\", \"Topic6\", \"Topic6\", \"Topic6\", \"Topic6\", \"Topic6\", \"Topic6\", \"Topic6\", \"Topic6\", \"Topic6\", \"Topic7\", \"Topic7\", \"Topic7\", \"Topic7\", \"Topic7\", \"Topic7\", \"Topic7\", \"Topic7\", \"Topic7\", \"Topic7\", \"Topic7\", \"Topic7\", \"Topic7\", \"Topic7\", \"Topic7\", \"Topic7\", \"Topic7\", \"Topic7\", \"Topic7\", \"Topic7\", \"Topic7\", \"Topic7\", \"Topic7\", \"Topic7\", \"Topic7\", \"Topic7\", \"Topic7\", \"Topic7\", \"Topic7\", \"Topic7\", \"Topic7\", \"Topic7\", \"Topic7\", \"Topic7\", \"Topic7\", \"Topic7\", \"Topic8\", \"Topic8\", \"Topic8\", \"Topic8\", \"Topic8\", \"Topic8\", \"Topic8\", \"Topic8\", \"Topic8\", \"Topic8\", \"Topic8\", \"Topic8\", \"Topic8\", \"Topic8\", \"Topic8\", \"Topic8\", \"Topic8\", \"Topic8\", \"Topic8\", \"Topic8\", \"Topic8\", \"Topic8\", \"Topic8\", \"Topic8\", \"Topic8\", \"Topic8\", \"Topic8\", \"Topic8\", \"Topic8\", \"Topic8\", \"Topic8\", \"Topic8\", \"Topic8\", \"Topic8\", \"Topic8\", \"Topic9\", \"Topic9\", \"Topic9\", \"Topic9\", \"Topic9\", \"Topic9\", \"Topic9\", \"Topic9\", \"Topic9\", \"Topic9\", \"Topic9\", \"Topic9\", \"Topic9\", \"Topic9\", \"Topic9\", \"Topic9\", \"Topic9\", \"Topic9\", \"Topic9\", \"Topic9\", \"Topic9\", \"Topic9\", \"Topic9\", \"Topic9\", \"Topic9\", \"Topic9\", \"Topic9\", \"Topic9\", \"Topic9\", \"Topic9\", \"Topic9\", \"Topic9\", \"Topic9\", \"Topic9\", \"Topic9\", \"Topic9\"], \"logprob\": [30.0, 29.0, 28.0, 27.0, 26.0, 25.0, 24.0, 23.0, 22.0, 21.0, 20.0, 19.0, 18.0, 17.0, 16.0, 15.0, 14.0, 13.0, 12.0, 11.0, 10.0, 9.0, 8.0, 7.0, 6.0, 5.0, 4.0, 3.0, 2.0, 1.0, -2.9669, -3.0842, -4.1673, -4.2693, -4.8311, -5.3664, -5.4149, -5.4406, -5.4712, -5.555, -5.7838, -5.8752, -5.9135, -6.0107, -6.0128, -6.0966, -6.1426, -5.661, -6.3416, -6.3906, -6.3974, -6.3989, -6.4405, -6.4739, -6.4977, -6.617, -6.6291, -6.6295, -6.6326, -6.6789, -5.0498, -4.7866, -4.7866, -5.1884, -5.3464, -5.4327, -5.5278, -5.4838, -5.5079, -5.6087, -5.5733, -5.5038, -5.6851, -5.7109, -5.6883, -5.7295, -5.7263, -5.7365, -5.7838, -3.7146, -3.8212, -3.8594, -4.2966, -4.6569, -5.1432, -5.2377, -5.4298, -5.7922, -5.8231, -5.8593, -5.8649, -5.8791, -5.8773, -5.9201, -6.0487, -6.0538, -6.0815, -6.1073, -6.1412, -6.1445, -6.1701, -6.235, -6.2481, -6.3023, -6.3071, -6.3253, -6.434, -6.4607, -6.463, -2.469, -5.0797, -5.0797, -5.6269, -5.6863, -5.9488, -5.8468, -5.9061, -5.9631, -6.0847, -6.107, -2.6128, -4.0799, -4.1864, -4.2503, -5.3113, -5.4595, -5.6527, -5.6738, -5.6796, -5.7042, -5.787, -5.8578, -5.9172, -5.9748, -6.0741, -6.1521, -6.1533, -6.2967, -6.3219, -6.3236, -6.3606, -6.4107, -6.4453, -6.4651, -6.486, -6.4257, -6.5153, -6.5182, -6.5218, -6.5403, -5.6088, -3.5629, -4.9052, -4.9052, -5.3227, -5.5246, -5.6777, -5.7339, -5.8545, -5.9408, -5.9858, -5.9858, -5.9719, -6.0114, -6.007, -6.0106, -3.1147, -3.1825, -3.8496, -4.2566, -4.3198, -4.4289, -4.5414, -4.6044, -5.2276, -5.253, -5.4931, -5.5325, -5.5948, -5.6575, -5.6715, -5.7075, -5.7188, -5.7476, -5.8437, -5.9126, -5.9796, -6.0478, -6.1221, -6.1257, -6.1335, -6.1393, -6.1345, -6.1589, -6.165, -6.1852, -3.8055, -5.1252, -5.1252, -5.7414, -5.8177, -5.8233, -5.8631, -5.9078, -5.9693, -4.0268, -4.0957, -4.1878, -4.5243, -4.5345, -4.5555, -4.6861, -4.954, -5.2687, -5.4554, -5.5098, -5.5281, -5.7858, -5.8367, -5.8499, -5.8671, -5.8743, -5.8736, -5.8839, -5.9076, -5.965, -6.0103, -6.0106, -6.0175, -6.1144, -6.117, -6.1985, -6.2087, -6.2341, -6.2402, -5.8055, -5.9168, -3.8739, -4.944, -4.944, -5.5481, -5.7178, -5.7314, -5.7937, -5.8501, -3.034, -4.1819, -4.2451, -4.6552, -4.6809, -4.8834, -5.2452, -5.3096, -5.4255, -5.4713, -5.4811, -5.5996, -5.6013, -5.6207, -5.6808, -5.6913, -5.7556, -5.7806, -5.8294, -5.8297, -5.8707, -5.9576, -6.0079, -6.0986, -6.1267, -6.1447, -6.1507, -6.1833, -6.4158, -6.4514, -6.4485, -5.2097, -6.216, -5.6768, -3.8243, -4.9993, -4.9993, -5.6547, -5.7993, -5.799, -5.908, -2.6447, -3.7361, -4.0124, -4.1359, -4.3893, -4.6857, -4.8494, -5.1035, -5.1125, -5.1518, -5.3017, -5.3023, -5.3106, -5.5225, -5.6036, -5.7065, -5.7212, -5.399, -5.7561, -5.7991, -5.8191, -5.84, -5.9092, -5.9227, -5.9377, -6.1492, -6.1542, -6.1803, -6.0645, -6.2043, -5.7081, -3.9853, -5.2618, -5.2618, -5.7574, -5.8357, -2.4711, -3.3768, -3.6241, -3.9858, -3.9984, -4.4617, -4.7872, -4.9128, -4.9593, -5.1469, -5.2298, -5.5555, -5.5602, -5.5908, -5.6556, -5.7978, -5.8793, -5.8867, -5.9107, -6.0095, -5.9098, -6.0158, -6.028, -6.0697, -6.1153, -6.1455, -6.1874, -6.1894, -6.1902, -6.2325, -3.989, -5.5307, -5.5307, -6.0614, -6.0647, -3.8261, -3.9005, -4.0529, -4.0634, -4.8317, -4.942, -4.985, -5.1498, -5.083, -5.1777, -5.2744, -5.3481, -5.3819, -5.447, -5.5253, -5.5436, -5.6387, -5.6599, -5.7646, -5.7762, -5.7999, -5.8074, -5.8263, -5.8685, -5.8742, -5.8917, -6.0646, -6.0413, -6.2874, -6.3391, -6.1337, -4.1159, -5.0455, -5.0455, -5.7915, -5.8331], \"loglift\": [30.0, 29.0, 28.0, 27.0, 26.0, 25.0, 24.0, 23.0, 22.0, 21.0, 20.0, 19.0, 18.0, 17.0, 16.0, 15.0, 14.0, 13.0, 12.0, 11.0, 10.0, 9.0, 8.0, 7.0, 6.0, 5.0, 4.0, 3.0, 2.0, 1.0, 1.9834, 1.9833, 1.982, 1.9818, 1.9802, 1.9774, 1.9772, 1.977, 1.9768, 1.9761, 1.9742, 1.9732, 1.9728, 1.9717, 1.9716, 1.9706, 1.9699, 1.9686, 1.9669, 1.966, 1.9659, 1.9659, 1.9651, 1.9645, 1.9636, 1.9615, 1.9612, 1.9612, 1.9611, 1.9597, 0.5327, 0.2539, 0.2539, 0.5205, 0.5403, 0.543, 0.5994, 0.5206, 0.531, 0.5626, 0.4807, 0.3066, 0.5621, 0.5517, 0.3969, 0.5144, 0.4249, 0.4639, 0.5855, 2.1058, 2.1057, 2.1056, 2.1047, 2.1036, 2.1014, 2.1008, 2.0994, 2.096, 2.0957, 2.0952, 2.0952, 2.095, 2.095, 2.0945, 2.0928, 2.0927, 2.0922, 2.0919, 2.0913, 2.0913, 2.0909, 2.0898, 2.0896, 2.0886, 2.0886, 2.0882, 2.0861, 2.0854, 2.0854, 1.1682, -0.0392, -0.0392, 0.3172, -0.1038, 0.4878, -0.1379, -0.0956, -0.0764, -0.0802, -0.1313, 2.1465, 2.1449, 2.1446, 2.1445, 2.1398, 2.1386, 2.1368, 2.1366, 2.1366, 2.1363, 2.1353, 2.1345, 2.1338, 2.133, 2.1315, 2.1303, 2.1303, 2.1277, 2.1273, 2.1272, 2.1264, 2.1254, 2.1247, 2.1242, 2.1237, 2.1233, 2.1231, 2.123, 2.123, 2.1225, 1.7449, 0.0743, 0.1353, 0.1353, 0.6214, 0.0579, 0.0312, 0.0766, 0.0323, 0.0636, 0.1203, 0.1203, 0.0038, 0.1158, 0.047, 0.0746, 2.1995, 2.1995, 2.1986, 2.1977, 2.1975, 2.1972, 2.1968, 2.1966, 2.1933, 2.1931, 2.1912, 2.1908, 2.1902, 2.1896, 2.1894, 2.189, 2.1889, 2.1885, 2.1874, 2.1863, 2.1855, 2.1844, 2.1832, 2.1831, 2.183, 2.1829, 2.1829, 2.1826, 2.1823, 2.1821, -0.1683, -0.0847, -0.0847, -0.1589, 0.1263, -0.1144, -0.0526, 0.068, 0.0696, 2.2157, 2.2156, 2.215, 2.2143, 2.2143, 2.2142, 2.2137, 2.2124, 2.2104, 2.2089, 2.2084, 2.2082, 2.2054, 2.2048, 2.2046, 2.2044, 2.2043, 2.2042, 2.2041, 2.2038, 2.203, 2.2023, 2.2023, 2.2021, 2.2006, 2.2005, 2.1991, 2.1986, 2.1984, 2.1983, 2.1927, 2.1477, -0.2367, 0.0964, 0.0964, 0.0343, -0.0089, 0.0791, 0.1504, 0.0366, 2.2235, 2.2217, 2.2216, 2.2203, 2.2202, 2.2192, 2.217, 2.2165, 2.2156, 2.2152, 2.2151, 2.2139, 2.2139, 2.2137, 2.213, 2.2129, 2.2122, 2.2116, 2.2112, 2.2112, 2.2107, 2.2095, 2.2087, 2.2072, 2.2067, 2.2064, 2.2063, 2.2048, 2.2009, 2.2, 2.1998, 1.978, 2.1303, 1.8444, -0.1871, 0.0412, 0.0412, -0.0722, 0.0112, -0.0901, 0.0361, 2.2631, 2.262, 2.2613, 2.2611, 2.2604, 2.2592, 2.2581, 2.257, 2.257, 2.2567, 2.2556, 2.2556, 2.2555, 2.2536, 2.2527, 2.2515, 2.2513, 2.251, 2.2509, 2.2504, 2.2501, 2.2497, 2.2487, 2.2486, 2.2483, 2.2448, 2.2447, 2.2442, 2.244, 2.2436, 2.1921, -0.3481, -0.2213, -0.2213, -0.1749, -0.1267, 2.3365, 2.3357, 2.3353, 2.3346, 2.3345, 2.3332, 2.3317, 2.331, 2.3307, 2.3295, 2.3288, 2.3257, 2.3256, 2.3253, 2.3245, 2.3226, 2.3213, 2.3213, 2.3209, 2.3193, 2.3193, 2.3192, 2.3189, 2.3182, 2.3173, 2.3167, 2.3158, 2.3158, 2.3157, 2.3149, -0.3518, -0.4902, -0.4902, -0.3524, -0.4823, 2.344, 2.3438, 2.3435, 2.3435, 2.3406, 2.3399, 2.3397, 2.3385, 2.3385, 2.3383, 2.3375, 2.3369, 2.3366, 2.3359, 2.3351, 2.3349, 2.3338, 2.3335, 2.3322, 2.332, 2.3316, 2.3315, 2.3313, 2.3306, 2.3306, 2.3303, 2.3273, 2.3269, 2.3227, 2.3215, 2.3152, -0.4787, -0.005, -0.005, -0.209, -0.0227]}, \"token.table\": {\"Topic\": [6, 7, 1, 6, 9, 1, 2, 3, 4, 5, 6, 7, 8, 9, 7, 8, 1, 3, 1, 7, 8, 2, 4, 6, 6, 4, 5, 6, 1, 2, 3, 4, 5, 6, 7, 8, 9, 8, 1, 1, 2, 6, 5, 3, 7, 9, 2, 2, 2, 7, 1, 2, 3, 4, 5, 6, 7, 8, 9, 6, 1, 9, 3, 8, 4, 8, 5, 3, 2, 9, 3, 1, 2, 3, 6, 4, 9, 1, 7, 3, 7, 4, 3, 8, 6, 9, 9, 4, 4, 1, 2, 3, 4, 5, 6, 7, 8, 9, 5, 6, 1, 1, 4, 4, 6, 1, 8, 7, 8, 7, 2, 1, 5, 1, 2, 3, 4, 5, 6, 7, 8, 9, 4, 6, 5, 3, 1, 2, 3, 4, 5, 6, 7, 8, 9, 7, 2, 2, 6, 1, 5, 1, 2, 3, 4, 5, 6, 7, 8, 9, 7, 2, 6, 4, 2, 9, 1, 6, 7, 8, 1, 2, 3, 4, 5, 6, 7, 8, 9, 8, 4, 2, 1, 7, 1, 2, 3, 4, 5, 6, 7, 8, 9, 1, 2, 3, 4, 5, 6, 7, 8, 9, 9, 3, 6, 9, 7, 4, 7, 7, 9, 9, 7, 5, 6, 8, 5, 9, 8, 6, 1, 2, 3, 4, 5, 6, 7, 8, 9, 1, 2, 3, 4, 5, 6, 7, 8, 9, 6, 2, 6, 1, 2, 3, 4, 5, 6, 7, 8, 9, 1, 2, 3, 4, 5, 6, 7, 8, 9, 5, 1, 6, 8, 1, 5, 3, 3, 8, 7, 4, 7, 1, 8, 3, 8, 8, 3, 7, 3, 6, 5, 4, 1, 4, 9, 9, 6, 5, 9, 1, 2, 3, 4, 5, 6, 7, 8, 9, 8, 1, 5, 8, 1, 8, 1, 2, 3, 4, 5, 6, 7, 8, 9, 1, 2, 3, 4, 5, 6, 7, 8, 9, 1, 2, 3, 4, 5, 6, 7, 6, 9, 5, 8, 2, 1, 2, 3, 4, 5, 6, 7, 8, 9, 5, 5, 8, 9, 5, 2, 3, 1, 2, 3, 4, 5, 6, 7, 8, 9, 1, 4, 5, 4, 3, 6, 1, 2, 2, 1, 2, 3, 5, 1, 2, 3, 4, 5, 6, 7, 8, 9, 8, 6, 1, 2, 3, 4, 5, 6, 7, 8, 9, 7, 9, 3, 3, 9, 3, 3, 1, 1, 5, 5, 4, 6, 7, 9, 5, 4, 3, 1, 1, 7, 1, 2, 3, 4, 5, 6, 7, 8, 9, 8, 5, 7, 9, 8, 6, 1, 2, 3, 4, 5, 6, 7, 8, 9, 8, 2, 3, 4, 5, 6, 7, 8, 9, 4, 7, 3, 5, 9, 3, 9, 5, 3, 7, 8, 3, 9, 3, 1, 2, 3, 4, 5, 6, 7, 8, 9, 1, 5, 7, 2, 2, 9, 1, 9, 6, 4, 2, 9, 1, 2, 3, 4, 5, 6, 7, 8, 9, 5, 1, 2, 2, 2, 2, 8, 7, 8, 4, 2, 3, 2, 1, 2, 3, 4, 5, 6, 7, 8, 9, 4, 7, 5, 9, 6, 7, 4, 5, 2, 4, 5, 9, 3, 3, 4, 2, 2, 2, 4, 9, 4, 8, 5, 6, 3, 1, 4, 6], \"Freq\": [0.9770541550107249, 0.9842803553625643, 0.9871931156374326, 0.9947344142918376, 0.9871643422605177, 0.23976079912073386, 0.10989036626366969, 0.11988039956036693, 0.09490531631862383, 0.10989036626366969, 0.10239784129114676, 0.08741279134610089, 0.059940199780183466, 0.07742275804940364, 0.9933053513983835, 0.9928402398635143, 0.991660237186411, 0.9762399459537148, 0.9880582968725982, 0.9914322480488726, 0.9952292916804943, 0.9802027475994611, 0.983577592586252, 0.9857659425551653, 0.9801541334095427, 0.9853831201480626, 0.9987864566723579, 0.9894510634412345, 0.05949461092009124, 0.04462095819006843, 0.6693143728510265, 0.04462095819006843, 0.04462095819006843, 0.04462095819006843, 0.037184131825057025, 0.02974730546004562, 0.037184131825057025, 0.98443035101248, 0.9865918376085556, 0.9990933390360945, 0.9978442600903131, 0.9978815640639298, 0.9964662556158963, 0.9788473887755554, 0.9941978039142989, 0.9973786303925308, 0.98999007383255, 0.9748868858547118, 0.9859834935542663, 0.9772866876009553, 0.250844543875177, 0.095975303743546, 0.13087541419574455, 0.10470033135659564, 0.10033781755007082, 0.08725027613049637, 0.095975303743546, 0.05453142258156023, 0.08070650542070913, 0.990385254982185, 0.9732449778881638, 0.9884728812933402, 0.980049893330323, 0.9997616442986615, 0.9977287613280883, 0.9815910243205493, 0.9909233027607383, 0.9787361753815869, 0.994411471077072, 0.9869985239551499, 0.9992885247944099, 0.020065650836619837, 0.020065650836619837, 0.020065650836619837, 0.9029542876478927, 0.9983955104156479, 0.9964975714675388, 0.9676246560232941, 0.9936769973671715, 0.9859373241273833, 0.99677432864857, 0.9879596263756542, 0.967424848893019, 0.9688964889776266, 0.9896891388629365, 0.9874700954315309, 0.9782876040629092, 0.994276165654284, 0.9856916822182145, 0.23364849351710254, 0.10783776623866272, 0.11782274459409445, 0.11782274459409445, 0.10783776623866272, 0.09785278788323098, 0.08387381818562656, 0.055915878790417706, 0.07588583550128117, 0.9747913215538923, 0.9828148157283839, 0.9968456382973819, 0.9946581335777397, 0.9865502396193622, 0.9956370340522602, 0.9827513587186627, 0.9900615010197605, 0.9859059183849337, 0.9769842241760385, 0.9949789698224406, 0.9886754317497088, 0.9819781448475245, 0.9800014462605925, 0.9811626430331568, 0.23668130255464095, 0.11319540556961089, 0.12005573317989034, 0.0943295046413424, 0.11319540556961089, 0.099474750349052, 0.0857540951284931, 0.06002786658994517, 0.07889376751821364, 0.9784825533062997, 0.9893308337351403, 0.9825903661453224, 0.984867327112985, 0.24103753236337822, 0.1131400662113816, 0.11805919952491994, 0.09346353295722828, 0.11068049955461244, 0.09838266627076661, 0.0860848329869208, 0.061489166419229135, 0.07870613301661329, 0.9901471918077323, 0.9861383938679695, 0.9961033991402648, 0.9958354011641154, 0.9905134711681591, 0.9950684422149301, 0.22302124451484434, 0.11151062225742217, 0.12164795155355147, 0.09731836124284117, 0.11353808811664803, 0.10340075882051875, 0.08718103194671188, 0.05676904405832402, 0.08515356608748603, 0.989754241158588, 0.9820391756121265, 0.9904889409502219, 0.9794261518831647, 0.9873638414039934, 0.9954522428958736, 0.9796590896708823, 0.9912860007567521, 0.9987952713548083, 0.9978608744208304, 0.18752315242338335, 0.11124254804776978, 0.12554516136819732, 0.10488583101646866, 0.11759926507907091, 0.1096533687899445, 0.08899403843821584, 0.061977991055186026, 0.09376157621169168, 0.9887017068073671, 0.9746982053529776, 0.9980260429035699, 0.9888391340266225, 0.9862275029639803, 0.007265457867449839, 0.1671055309513463, 0.21796373602349517, 0.1253291482135097, 0.1271455126803722, 0.1126145969454725, 0.10534913907802267, 0.06902184974077347, 0.06902184974077347, 0.2473034969000318, 0.10836894807978922, 0.11392633003259893, 0.0916968022213601, 0.10836894807978922, 0.09725418417416981, 0.0916968022213601, 0.06390989245731159, 0.07780334733933585, 0.9925090907413011, 0.9918396553948395, 0.992996943810847, 0.9941222139475473, 0.9975882909961025, 0.9994982791017717, 0.9941666872538775, 0.9764299504512449, 0.9845011195605079, 0.9875204082283263, 0.9931941096332141, 0.9958027011042475, 0.9834256605008206, 0.9938660834824257, 0.9833425383019005, 0.9983918983828445, 0.997655660345124, 0.9853622476220497, 0.17733526556194285, 0.11699712541223616, 0.13392123789325144, 0.10154467488609176, 0.11994044932197795, 0.11258213954762347, 0.08314890045020557, 0.0588664781948358, 0.09492219608917273, 0.17733526556194285, 0.11699712541223616, 0.13392123789325144, 0.10154467488609176, 0.11994044932197795, 0.11258213954762347, 0.08314890045020557, 0.0588664781948358, 0.09492219608917273, 0.9992024893656329, 0.981900874441346, 0.9735138398592107, 0.068366413198139, 0.19915433409892666, 0.16645735387372976, 0.1040358461710811, 0.09809094067559075, 0.08917358243235522, 0.10998075166657144, 0.059449054954903484, 0.10998075166657144, 0.2416612519679632, 0.10943151032511542, 0.11855080285220837, 0.09347274840270275, 0.1139911565886619, 0.09803239466624923, 0.08891310213915628, 0.059275401426104185, 0.07751398648029009, 0.9970759807803731, 0.9731381655828211, 0.9950904565730249, 0.9920287616493793, 0.976542275528169, 0.9847891618916403, 0.9701351391135309, 0.9862986332677857, 0.9909089218683956, 0.9942010504403744, 0.9951086110945019, 0.972966150925613, 0.9921525005305312, 0.9921146546009548, 0.9661708196428238, 0.991849053183983, 0.9926016953429525, 0.998078413978366, 0.9971215193563282, 0.9875854734040815, 0.987976102074681, 0.9966389535546673, 0.9970759504500403, 0.9909585860197601, 0.9844898824432582, 0.9872245899378477, 0.9948805079676442, 0.972997425643775, 0.9818537081143263, 0.9980493710351966, 0.20497649956356565, 0.11085463751907122, 0.12549581605932592, 0.09830505591313862, 0.11712942832203752, 0.10667144365042702, 0.08784707124152814, 0.05856471416101876, 0.08993866817585024, 0.9785245691470473, 0.9879487264541935, 0.9830621488608475, 0.9878504467453568, 0.9793962477394311, 0.9859688526242684, 0.2100253170909343, 0.1161842179651977, 0.12288715361703603, 0.09830972289362883, 0.1184185298491438, 0.10501265854546715, 0.08713816347389827, 0.05809210898259885, 0.08937247535784439, 0.16232884445345, 0.1217466333400875, 0.13242616258044607, 0.1025234807074421, 0.1217466333400875, 0.11533891579587237, 0.08330032807479672, 0.06621308129022303, 0.09611576316322698, 0.07558992363148716, 0.08818824423673502, 0.01259832060524786, 0.01259832060524786, 0.01889748090787179, 0.7810958775253672, 0.00629916030262393, 0.991015169433748, 0.9943182886871017, 0.9836347253120887, 0.9830669125708763, 0.9983663342282716, 0.23115219462917624, 0.10624386585440398, 0.12060114502391804, 0.09906522626964696, 0.10767959377135539, 0.09906522626964696, 0.09188658668488993, 0.06747921209671605, 0.07752930751537587, 0.9902590083960596, 0.9843318644556903, 0.9984963493756084, 0.9802854137401145, 0.9774932976314887, 0.9939718986673609, 0.997697131938238, 0.0175854042253869, 0.0879270211269345, 0.0351708084507738, 0.0703416169015476, 0.0527562126761607, 0.6858307647900891, 0.02637810633808035, 0.00879270211269345, 0.00879270211269345, 0.9736337649627121, 0.99360231587253, 0.9948442463593621, 0.9871615008254816, 0.9785949022083033, 0.9896232939872694, 0.9847381784055314, 0.9945059045137279, 0.9936833344616722, 0.015137516432299958, 0.015137516432299958, 0.015137516432299958, 0.9385260188025975, 0.013202574674016402, 0.3910132389756638, 0.12587660237144405, 0.09368402302932186, 0.08590716397476425, 0.08970516490838541, 0.07342801805000902, 0.06800230243055023, 0.059321157439416156, 0.9841166801548852, 0.9861585560154571, 0.2304455576512849, 0.11277123033999048, 0.12257742428259835, 0.09561039094042671, 0.11031968185433852, 0.10051348791173065, 0.08580419699781884, 0.05883716365564721, 0.0809011000265149, 0.9936648215222657, 0.9853319366153966, 0.9919939643725857, 0.9763794692759321, 0.9666303209585947, 0.9921912443852402, 0.9857264647707376, 0.9991340518163396, 0.9974947062768611, 0.9943032490024576, 0.9971016724777406, 0.9951226228229677, 0.995102330477487, 0.9958869821999139, 0.9924076914490054, 0.992258331225856, 0.9738940821206669, 0.9702056882804087, 0.9940622803488087, 0.9811440643319914, 0.989226638386801, 0.16232884445345, 0.1217466333400875, 0.13242616258044607, 0.1025234807074421, 0.1217466333400875, 0.11533891579587237, 0.08330032807479672, 0.06621308129022303, 0.09611576316322698, 0.9885781197603523, 0.9919335888879709, 0.9854260264233308, 0.9928719286442177, 0.9968030647148396, 0.9906969784552156, 0.21829072836746233, 0.10797175811723943, 0.12205503091514022, 0.09858290958530556, 0.11266618238320636, 0.1032773338512725, 0.0891940610533717, 0.058680303324586645, 0.08684684892038824, 0.983915217225532, 0.012844707519834233, 0.012844707519834233, 0.012844707519834233, 0.012844707519834233, 0.012844707519834233, 0.9248189414280649, 0.012844707519834233, 0.012844707519834233, 0.9990848660867522, 0.9994095808799387, 0.9976370560599171, 0.991161443024942, 0.9967871509439024, 0.9638377392115103, 0.9891996241135297, 0.9928422972332835, 0.9889141566340619, 0.9896786833929875, 0.9831573605366182, 0.9722916113376442, 0.9850116965291847, 0.9801365432375819, 0.23406436379526818, 0.11007351162263962, 0.12399085217262855, 0.09489095829537898, 0.11260393717718306, 0.10121702218173759, 0.08729968163174867, 0.05946500053177083, 0.0771779794135749, 0.9900565745522845, 0.9716116577069005, 0.9805945192763142, 0.9788150252608575, 0.9908495478435134, 0.9938463984338463, 0.9994527788051739, 0.9805189223254536, 0.9869849377678062, 0.9809530492814649, 0.9934725518030582, 0.9968717452407624, 0.2315256078837486, 0.1119040438104785, 0.12540970427036383, 0.09453962321919734, 0.1119040438104785, 0.10032776341629106, 0.08489272289070782, 0.059810782036635056, 0.08103396275931202, 0.9953842793181672, 0.9943318807693201, 0.9793046712415037, 0.9900589841768981, 0.9882266147200758, 0.9872060584931021, 0.9814530535555173, 0.9870624358086234, 0.9875864921324174, 0.9822477153733822, 0.9765698345588374, 0.9703804792472737, 0.9849675432686877, 0.23622709462562447, 0.10686463804492535, 0.11811354731281223, 0.11811354731281223, 0.10873945625623983, 0.09749054698835295, 0.08249200129783711, 0.0562445463394344, 0.07686754666389368, 0.9846474022262393, 0.993476266662008, 0.9899894140076617, 0.9930050092265996, 0.9957902846193046, 0.9834916736653306, 0.9876456469089576, 0.9892644411262517, 0.9823668344722841, 0.9835775823572145, 0.990573511436531, 0.9785043436425553, 0.9736396855654454, 0.9829614400127709, 0.9853380254160046, 0.9809825420824942, 0.9927846081696385, 0.9985286796726223, 0.9901374492281709, 0.9916396552613688, 0.9842329880218238, 0.9879367629354975, 0.9918560915791417, 0.997933267636577, 0.9802239295207187, 0.9854438528232486, 0.9966284735618707, 0.9986489939608517], \"Term\": [\"acar\", \"adalet\", \"adamlar\", \"adre\", \"ag\\u0131r\", \"akil_yigide\", \"akil_yigide\", \"akil_yigide\", \"akil_yigide\", \"akil_yigide\", \"akil_yigide\", \"akil_yigide\", \"akil_yigide\", \"akil_yigide\", \"aksaray\", \"aksener\", \"ald\\u0131\", \"ald\\u0131lar\", \"alg\\u0131\", \"allah\\u0131m\", \"alma\", \"alt\\u0131nda\", \"al\\u0131r\", \"anlat\", \"arac\\u0131\", \"arkada\", \"avc\\u0131lar\", \"ay\", \"ayazaga\", \"ayazaga\", \"ayazaga\", \"ayazaga\", \"ayazaga\", \"ayazaga\", \"ayazaga\", \"ayazaga\", \"ayazaga\", \"ayda\", \"ayn\\u0131\", \"bagc\\u0131lar\", \"bahcelievler\", \"bahcesehir\", \"bak\", \"bakal\\u0131m\", \"bakirkoy\", \"basaksehir\", \"baskan\\u0131\", \"baskan\\u0131m\", \"baskan\\u0131n\\u0131\", \"bas\\u0131ma\", \"bayrampasa\", \"bayrampasa\", \"bayrampasa\", \"bayrampasa\", \"bayrampasa\", \"bayrampasa\", \"bayrampasa\", \"bayrampasa\", \"bayrampasa\", \"bekliyorum\", \"bekliyoruz\", \"bence\", \"benziyor\", \"besikta\", \"beylikduzu\", \"beyoglu\", \"bide\", \"bildigin\", \"bilir\", \"biliyor\", \"bir\", \"birbirlerine\", \"birbirlerine\", \"birbirlerine\", \"birbirlerine\", \"biter\", \"bo\", \"bulunmuyor\", \"bur\", \"buyuk\", \"buyukcekmece\", \"can\\u0131m\", \"cevap\", \"ciddi\", \"cocuk\", \"cocuklar\", \"cumhuriyet\", \"c\\u0131karken\", \"c\\u0131kar\\u0131p\", \"davulun_sesi\", \"davulun_sesi\", \"davulun_sesi\", \"davulun_sesi\", \"davulun_sesi\", \"davulun_sesi\", \"davulun_sesi\", \"davulun_sesi\", \"davulun_sesi\", \"dedigi\", \"dediginiz\", \"degilim\", \"degisiklik\", \"deniz\", \"devam\", \"devlet\", \"dil\", \"dileriz\", \"diyenler\", \"diyor\", \"diyorlar\", \"doneminde\", \"doner\", \"donmus\", \"doyar\", \"doyar\", \"doyar\", \"doyar\", \"doyar\", \"doyar\", \"doyar\", \"doyar\", \"doyar\", \"durumda\", \"durumu\", \"duruyor\", \"dusuncesi\", \"dusuremez\", \"dusuremez\", \"dusuremez\", \"dusuremez\", \"dusuremez\", \"dusuremez\", \"dusuremez\", \"dusuremez\", \"dusuremez\", \"duz\", \"duzeltme\", \"eder\", \"edin\", \"edirnekap\\u0131\", \"egm\", \"ekmegin_kestigini\", \"ekmegin_kestigini\", \"ekmegin_kestigini\", \"ekmegin_kestigini\", \"ekmegin_kestigini\", \"ekmegin_kestigini\", \"ekmegin_kestigini\", \"ekmegin_kestigini\", \"ekmegin_kestigini\", \"ekmek\", \"ekrem\", \"eksik\", \"elinden\", \"emekli\", \"emin\", \"enerji\", \"erdogan\", \"esenler\", \"esenyurt\", \"etiler_levent\", \"etiler_levent\", \"etiler_levent\", \"etiler_levent\", \"etiler_levent\", \"etiler_levent\", \"etiler_levent\", \"etiler_levent\", \"etiler_levent\", \"etme\", \"etmeye\", \"eyup\", \"farkl\\u0131\", \"fazla\", \"florya\", \"florya\", \"florya\", \"florya\", \"florya\", \"florya\", \"florya\", \"florya\", \"florya\", \"florya_yesilkoy\", \"florya_yesilkoy\", \"florya_yesilkoy\", \"florya_yesilkoy\", \"florya_yesilkoy\", \"florya_yesilkoy\", \"florya_yesilkoy\", \"florya_yesilkoy\", \"florya_yesilkoy\", \"gec\", \"gecen\", \"gecmis\", \"geldi\", \"gelene\", \"gelir\", \"geliyor\", \"gelmeden\", \"genis\", \"gercekler\", \"gercekten\", \"gereken\", \"getirir\", \"giden\", \"gitsin\", \"gitti\", \"gol\", \"gozu\", \"gtmecidiyekoy_kad\\u0131koy\", \"gtmecidiyekoy_kad\\u0131koy\", \"gtmecidiyekoy_kad\\u0131koy\", \"gtmecidiyekoy_kad\\u0131koy\", \"gtmecidiyekoy_kad\\u0131koy\", \"gtmecidiyekoy_kad\\u0131koy\", \"gtmecidiyekoy_kad\\u0131koy\", \"gtmecidiyekoy_kad\\u0131koy\", \"gtmecidiyekoy_kad\\u0131koy\", \"gtsisli_merter\", \"gtsisli_merter\", \"gtsisli_merter\", \"gtsisli_merter\", \"gtsisli_merter\", \"gtsisli_merter\", \"gtsisli_merter\", \"gtsisli_merter\", \"gtsisli_merter\", \"gun\", \"gunayd\\u0131n\", \"gune\", \"gunesli\", \"gunesli\", \"gunesli\", \"gunesli\", \"gunesli\", \"gunesli\", \"gunesli\", \"gunesli\", \"gunesli\", \"gungoren\", \"gungoren\", \"gungoren\", \"gungoren\", \"gungoren\", \"gungoren\", \"gungoren\", \"gungoren\", \"gungoren\", \"guzel\", \"haberiniz\", \"hafta\", \"hakk\\u0131n\\u0131\", \"haks\\u0131z\", \"halk\", \"hayat\", \"hayat\\u0131\", \"heman\", \"hikaye\", \"hizmet\", \"icin\", \"icinde\", \"icisleri\", \"ifade\", \"iktidar\", \"indirim\", \"insan\", \"insanlar\", \"iptal\", \"isi\", \"isler\", \"istanbula\", \"istanbulu\", \"istanbulun\", \"istedigim\", \"istedigin\", \"istiyorum\", \"kad\\u0131n\", \"kag\\u0131thane\", \"kag\\u0131thane_halkal\\u0131\", \"kag\\u0131thane_halkal\\u0131\", \"kag\\u0131thane_halkal\\u0131\", \"kag\\u0131thane_halkal\\u0131\", \"kag\\u0131thane_halkal\\u0131\", \"kag\\u0131thane_halkal\\u0131\", \"kag\\u0131thane_halkal\\u0131\", \"kag\\u0131thane_halkal\\u0131\", \"kag\\u0131thane_halkal\\u0131\", \"kald\\u0131k\", \"kamu\", \"karar\", \"karde\", \"kardesim\", \"kart\", \"kasik_yapar\", \"kasik_yapar\", \"kasik_yapar\", \"kasik_yapar\", \"kasik_yapar\", \"kasik_yapar\", \"kasik_yapar\", \"kasik_yapar\", \"kasik_yapar\", \"kelepirciytim\", \"kelepirciytim\", \"kelepirciytim\", \"kelepirciytim\", \"kelepirciytim\", \"kelepirciytim\", \"kelepirciytim\", \"kelepirciytim\", \"kelepirciytim\", \"kendine\", \"kendine\", \"kendine\", \"kendine\", \"kendine\", \"kendine\", \"kendine\", \"kisi\", \"koca\", \"kolay\", \"koy\", \"kucukcekmece\", \"kucukcekmece_florya\", \"kucukcekmece_florya\", \"kucukcekmece_florya\", \"kucukcekmece_florya\", \"kucukcekmece_florya\", \"kucukcekmece_florya\", \"kucukcekmece_florya\", \"kucukcekmece_florya\", \"kucukcekmece_florya\", \"lanet\", \"laz\\u0131m\", \"levent\", \"maas\", \"makinesi\", \"maltepe\", \"maslak\", \"meclise\", \"meclise\", \"meclise\", \"meclise\", \"meclise\", \"meclise\", \"meclise\", \"meclise\", \"meclise\", \"merhabalar\", \"merkez\", \"merter\", \"mesafe\", \"millet\", \"misiniz\", \"mudur\", \"nedir\", \"neler\", \"nimet\", \"nimet\", \"nimet\", \"nimet\", \"nisantas\\u0131\", \"nisantas\\u0131\", \"nisantas\\u0131\", \"nisantas\\u0131\", \"nisantas\\u0131\", \"nisantas\\u0131\", \"nisantas\\u0131\", \"nisantas\\u0131\", \"nisantas\\u0131\", \"normal\", \"ocak\", \"okuzune_aci\", \"okuzune_aci\", \"okuzune_aci\", \"okuzune_aci\", \"okuzune_aci\", \"okuzune_aci\", \"okuzune_aci\", \"okuzune_aci\", \"okuzune_aci\", \"olabilir\", \"olacak\", \"oldugun\", \"olduk\", \"olmal\\u0131\", \"olmayacak\", \"olmayan\", \"olmaz\", \"olmus\", \"olmuyor\", \"olu\", \"olunca\", \"onemli\", \"ongun\", \"onunde\", \"paras\\u0131\", \"paray\\u0131\", \"proje\", \"saadet\", \"sagl\\u0131kl\\u0131\", \"sah\\u0131s\", \"samand\\u0131ra_denizayisiytim\", \"samand\\u0131ra_denizayisiytim\", \"samand\\u0131ra_denizayisiytim\", \"samand\\u0131ra_denizayisiytim\", \"samand\\u0131ra_denizayisiytim\", \"samand\\u0131ra_denizayisiytim\", \"samand\\u0131ra_denizayisiytim\", \"samand\\u0131ra_denizayisiytim\", \"samand\\u0131ra_denizayisiytim\", \"saray\", \"sart\", \"sar\\u0131yer\", \"sebebi\", \"sefakoy\", \"sene\", \"sevmez\", \"sevmez\", \"sevmez\", \"sevmez\", \"sevmez\", \"sevmez\", \"sevmez\", \"sevmez\", \"sevmez\", \"seye\", \"seysi\", \"seysi\", \"seysi\", \"seysi\", \"seysi\", \"seysi\", \"seysi\", \"seysi\", \"sirinevler\", \"sisli\", \"size\", \"sizsiniz\", \"soguk\", \"sokaga\", \"sokak\", \"son\", \"sonuc\", \"sorun\", \"sorusturma\", \"soyluyorum\", \"suleyman\", \"sultanbeyli\", \"sultangazi_kag\\u0131thane\", \"sultangazi_kag\\u0131thane\", \"sultangazi_kag\\u0131thane\", \"sultangazi_kag\\u0131thane\", \"sultangazi_kag\\u0131thane\", \"sultangazi_kag\\u0131thane\", \"sultangazi_kag\\u0131thane\", \"sultangazi_kag\\u0131thane\", \"sultangazi_kag\\u0131thane\", \"sure\", \"surec\", \"surece\", \"s\\u0131f\\u0131r\", \"s\\u0131rf\", \"tabi\", \"taksim\", \"tane\", \"tarih\", \"tekrar\", \"terorist\", \"tesekkurler\", \"tipisi\", \"tipisi\", \"tipisi\", \"tipisi\", \"tipisi\", \"tipisi\", \"tipisi\", \"tipisi\", \"tipisi\", \"topkap\\u0131\", \"trafik\", \"transfer\", \"tuzla\", \"ucuz\", \"ukome\", \"ulke\", \"ulkede\", \"ulkenin\", \"ulkeyi\", \"uskudar\", \"uygulamay\\u0131\", \"uzak\", \"uzaktan_goygun\", \"uzaktan_goygun\", \"uzaktan_goygun\", \"uzaktan_goygun\", \"uzaktan_goygun\", \"uzaktan_goygun\", \"uzaktan_goygun\", \"uzaktan_goygun\", \"uzaktan_goygun\", \"uzerinden\", \"uzun\", \"vakit\", \"valla\", \"varsa\", \"ver\", \"verin\", \"veriyor\", \"verme\", \"versin\", \"yalan\", \"yapar\", \"yap\\u0131yorsunuz\", \"yasamak\", \"yaz\\u0131k\", \"yaz\\u0131klar\", \"ye\", \"yeni\", \"yer\", \"yeter\", \"yolunda\", \"yuz\", \"yuzde\", \"y\\u0131l\", \"y\\u0131lda\", \"y\\u0131ll\\u0131k\", \"zaman\", \"zeytinburnu\"]}, \"R\": 30, \"lambda.step\": 0.01, \"plot.opts\": {\"xlab\": \"PC1\", \"ylab\": \"PC2\"}, \"topic.order\": [4, 9, 1, 5, 3, 6, 8, 7, 2]};\n",
              "\n",
              "function LDAvis_load_lib(url, callback){\n",
              "  var s = document.createElement('script');\n",
              "  s.src = url;\n",
              "  s.async = true;\n",
              "  s.onreadystatechange = s.onload = callback;\n",
              "  s.onerror = function(){console.warn(\"failed to load library \" + url);};\n",
              "  document.getElementsByTagName(\"head\")[0].appendChild(s);\n",
              "}\n",
              "\n",
              "if(typeof(LDAvis) !== \"undefined\"){\n",
              "   // already loaded: just create the visualization\n",
              "   !function(LDAvis){\n",
              "       new LDAvis(\"#\" + \"ldavis_el3071406437918809283043482090\", ldavis_el3071406437918809283043482090_data);\n",
              "   }(LDAvis);\n",
              "}else if(typeof define === \"function\" && define.amd){\n",
              "   // require.js is available: use it to load d3/LDAvis\n",
              "   require.config({paths: {d3: \"https://d3js.org/d3.v5\"}});\n",
              "   require([\"d3\"], function(d3){\n",
              "      window.d3 = d3;\n",
              "      LDAvis_load_lib(\"https://cdn.jsdelivr.net/gh/bmabey/pyLDAvis@3.4.0/pyLDAvis/js/ldavis.v3.0.0.js\", function(){\n",
              "        new LDAvis(\"#\" + \"ldavis_el3071406437918809283043482090\", ldavis_el3071406437918809283043482090_data);\n",
              "      });\n",
              "    });\n",
              "}else{\n",
              "    // require.js not available: dynamically load d3 & LDAvis\n",
              "    LDAvis_load_lib(\"https://d3js.org/d3.v5.js\", function(){\n",
              "         LDAvis_load_lib(\"https://cdn.jsdelivr.net/gh/bmabey/pyLDAvis@3.4.0/pyLDAvis/js/ldavis.v3.0.0.js\", function(){\n",
              "                 new LDAvis(\"#\" + \"ldavis_el3071406437918809283043482090\", ldavis_el3071406437918809283043482090_data);\n",
              "            })\n",
              "         });\n",
              "}\n",
              "</script>"
            ]
          },
          "metadata": {},
          "execution_count": 30
        }
      ]
    },
    {
      "cell_type": "code",
      "source": [
        "for m, cv in zip(x,coherence_vals):\n",
        "    print(\"num topics: \",m,'has coherence value of :',round(cv,4))"
      ],
      "metadata": {
        "colab": {
          "base_uri": "https://localhost:8080/",
          "height": 182
        },
        "id": "T2ZS09PrWF9M",
        "outputId": "39f0cb1c-60a6-4cab-c605-35b6ce8901bf"
      },
      "execution_count": 29,
      "outputs": [
        {
          "output_type": "error",
          "ename": "NameError",
          "evalue": "ignored",
          "traceback": [
            "\u001b[0;31m---------------------------------------------------------------------------\u001b[0m",
            "\u001b[0;31mNameError\u001b[0m                                 Traceback (most recent call last)",
            "\u001b[0;32m<ipython-input-29-195853d3229e>\u001b[0m in \u001b[0;36m<module>\u001b[0;34m\u001b[0m\n\u001b[0;32m----> 1\u001b[0;31m \u001b[0;32mfor\u001b[0m \u001b[0mm\u001b[0m\u001b[0;34m,\u001b[0m \u001b[0mcv\u001b[0m \u001b[0;32min\u001b[0m \u001b[0mzip\u001b[0m\u001b[0;34m(\u001b[0m\u001b[0mcoherence_vals\u001b[0m\u001b[0;34m)\u001b[0m\u001b[0;34m:\u001b[0m\u001b[0;34m\u001b[0m\u001b[0;34m\u001b[0m\u001b[0m\n\u001b[0m\u001b[1;32m      2\u001b[0m     \u001b[0mprint\u001b[0m\u001b[0;34m(\u001b[0m\u001b[0;34m\"num topics: \"\u001b[0m\u001b[0;34m,\u001b[0m\u001b[0mm\u001b[0m\u001b[0;34m,\u001b[0m\u001b[0;34m'has coherence value of :'\u001b[0m\u001b[0;34m,\u001b[0m\u001b[0mround\u001b[0m\u001b[0;34m(\u001b[0m\u001b[0mcv\u001b[0m\u001b[0;34m,\u001b[0m\u001b[0;36m4\u001b[0m\u001b[0;34m)\u001b[0m\u001b[0;34m)\u001b[0m\u001b[0;34m\u001b[0m\u001b[0;34m\u001b[0m\u001b[0m\n",
            "\u001b[0;31mNameError\u001b[0m: name 'coherence_vals' is not defined"
          ]
        }
      ]
    }
  ]
}